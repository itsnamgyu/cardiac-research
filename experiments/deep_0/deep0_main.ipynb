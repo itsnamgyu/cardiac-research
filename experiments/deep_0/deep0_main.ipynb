{
 "cells": [
  {
   "cell_type": "code",
   "execution_count": null,
   "metadata": {
    "scrolled": true
   },
   "outputs": [],
   "source": [
    "import sys\n",
    "sys.path.append('../..')\n",
    "\n",
    "from core.fine_model import FineModel\n",
    "from keras.models import Sequential\n",
    "\n",
    "import os\n",
    "import json\n",
    "import math\n",
    "\n",
    "import keras\n",
    "from keras import optimizers\n",
    "from keras.models import Sequential\n",
    "from keras.layers import Dense, Flatten, Dropout\n",
    "from sklearn.preprocessing import LabelEncoder, OneHotEncoder\n",
    "import sklearn\n",
    "import numpy as np\n",
    "import pandas as pd\n",
    "from tqdm import tqdm\n",
    "\n",
    "import cr_interface as cri\n",
    "import keras_utils as ku\n",
    "import keras_bottle as kb\n",
    "import keras_history as kh\n",
    "import keras_weights as kw\n",
    "import lib"
   ]
  },
  {
   "cell_type": "code",
   "execution_count": null,
   "metadata": {},
   "outputs": [],
   "source": [
    "batch_size = 32"
   ]
  },
  {
   "cell_type": "code",
   "execution_count": null,
   "metadata": {},
   "outputs": [],
   "source": [
    "models = FineModel.get_dict()"
   ]
  },
  {
   "cell_type": "code",
   "execution_count": null,
   "metadata": {},
   "outputs": [],
   "source": [
    "models.keys()"
   ]
  },
  {
   "cell_type": "code",
   "execution_count": null,
   "metadata": {
    "scrolled": true
   },
   "outputs": [],
   "source": [
    "fm = models['resnet50']()"
   ]
  },
  {
   "cell_type": "code",
   "execution_count": null,
   "metadata": {},
   "outputs": [],
   "source": [
    "aug_gen = fm.get_image_data_generator(augment=True)\n",
    "pure_gen = fm.get_image_data_generator(augment=False)"
   ]
  },
  {
   "cell_type": "code",
   "execution_count": null,
   "metadata": {},
   "outputs": [],
   "source": [
    "train_collection = cri.CrCollection.load().filter_by(dataset_index=0).tri_label().labeled()\n",
    "test_collection = cri.CrCollection.load().filter_by(dataset_index=1).tri_label().labeled()\n",
    "\n",
    "train_collection = train_collection.sample(frac=1)\n",
    "test_collection = test_collection.sample(frac=0.1)\n",
    "\n",
    "train, validation = train_collection.split_by('pid', [0.8, 0.2])\n",
    "test = test_collection"
   ]
  },
  {
   "cell_type": "code",
   "execution_count": null,
   "metadata": {},
   "outputs": [],
   "source": [
    "name = fm.get_name()\n",
    "train_dir = '{}_train'.format(name)\n",
    "validation_dir = '{}_validation'.format(name)\n",
    "test_dir = '{}_test'.format(name)"
   ]
  },
  {
   "cell_type": "code",
   "execution_count": null,
   "metadata": {},
   "outputs": [],
   "source": [
    "train.export_by_label(train_dir)\n",
    "validation.export_by_label(validation_dir)\n",
    "test.export_by_label(test_dir, balancing=1)"
   ]
  },
  {
   "cell_type": "code",
   "execution_count": null,
   "metadata": {},
   "outputs": [],
   "source": [
    "train_gen = aug_gen.flow_from_directory(\n",
    "    train_dir,\n",
    "    target_size=fm.get_output_shape(),\n",
    "    batch_size=batch_size,\n",
    "    class_mode='categorical'\n",
    ")"
   ]
  },
  {
   "cell_type": "code",
   "execution_count": null,
   "metadata": {},
   "outputs": [],
   "source": [
    "validation_gen = aug_gen.flow_from_directory(\n",
    "    validation_dir,\n",
    "    target_size=fm.get_output_shape(),\n",
    "    batch_size=batch_size,\n",
    "    class_mode='categorical'\n",
    ")"
   ]
  },
  {
   "cell_type": "code",
   "execution_count": null,
   "metadata": {},
   "outputs": [],
   "source": [
    "test_gen = pure_gen.flow_from_directory(\n",
    "    test_dir,\n",
    "    target_size=fm.get_output_shape(),\n",
    "    batch_size=batch_size,\n",
    "    class_mode='categorical'\n",
    ")"
   ]
  },
  {
   "cell_type": "code",
   "execution_count": null,
   "metadata": {},
   "outputs": [],
   "source": [
    "fm.get_depths()"
   ]
  },
  {
   "cell_type": "code",
   "execution_count": null,
   "metadata": {},
   "outputs": [],
   "source": [
    "epochs = 5"
   ]
  },
  {
   "cell_type": "code",
   "execution_count": null,
   "metadata": {},
   "outputs": [],
   "source": [
    "fm.set_depth(0)\n",
    "fm.compile_model(lr=1e-4)\n",
    "fm.get_model().fit_generator(\n",
    "    train_gen,\n",
    "    validation_data=validation_gen,\n",
    "    steps_per_epoch=math.ceil(train.df.shape[0] / batch_size),\n",
    "    validation_steps=1,\n",
    "    shuffle=True,\n",
    "    epochs=epochs)"
   ]
  },
  {
   "cell_type": "code",
   "execution_count": null,
   "metadata": {
    "scrolled": true
   },
   "outputs": [],
   "source": [
    "fm.get_model().evaluate_generator(\n",
    "    test_gen,\n",
    "    steps=1\n",
    ")"
   ]
  },
  {
   "cell_type": "code",
   "execution_count": null,
   "metadata": {},
   "outputs": [],
   "source": [
    "fm.set_depth(1)\n",
    "fm.compile_model(lr=1e-4)\n",
    "fm.get_model().fit_generator(\n",
    "    train_gen,\n",
    "    validation_data=validation_gen,\n",
    "    steps_per_epoch=math.ceil(train.df.shape[0] / batch_size),\n",
    "    validation_steps=1,\n",
    "    shuffle=True,\n",
    "    epochs=epochs)"
   ]
  },
  {
   "cell_type": "code",
   "execution_count": null,
   "metadata": {
    "scrolled": true
   },
   "outputs": [],
   "source": [
    "fm.get_model().evaluate_generator(\n",
    "    test_gen,\n",
    "    steps=1\n",
    ")"
   ]
  },
  {
   "cell_type": "code",
   "execution_count": null,
   "metadata": {},
   "outputs": [],
   "source": []
  }
 ],
 "metadata": {
  "kernelspec": {
   "display_name": "Python 3",
   "language": "python",
   "name": "python3"
  },
  "language_info": {
   "codemirror_mode": {
    "name": "ipython",
    "version": 3
   },
   "file_extension": ".py",
   "mimetype": "text/x-python",
   "name": "python",
   "nbconvert_exporter": "python",
   "pygments_lexer": "ipython3",
   "version": "3.6.5"
  }
 },
 "nbformat": 4,
 "nbformat_minor": 2
}
