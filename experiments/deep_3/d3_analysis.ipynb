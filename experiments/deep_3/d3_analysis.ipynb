{
 "cells": [
  {
   "cell_type": "code",
   "execution_count": null,
   "metadata": {
    "scrolled": true
   },
   "outputs": [],
   "source": [
    "from core import history as ch\n",
    "from core.fine_model import FineModel\n",
    "import matplotlib as mpl\n",
    "import matplotlib.pyplot as plt\n",
    "import traceback\n",
    "import warnings\n",
    "import os"
   ]
  },
  {
   "cell_type": "code",
   "execution_count": null,
   "metadata": {},
   "outputs": [],
   "source": [
    "import analysis\n",
    "import imp\n",
    "imp.reload(analysis)\n",
    "from analysis import analyze_lr, analyze_depth"
   ]
  },
  {
   "cell_type": "code",
   "execution_count": null,
   "metadata": {},
   "outputs": [],
   "source": [
    "exp = 101\n",
    "_depth_key = 'EXP{:02}_D{:02}'\n",
    "_fold_key = 'EXP{:02}_D{:02}_L{:02}_F{:02}'\n",
    "_epoch_key = 'EXP{:02}_D{:02}_L{:02}_F{:02}_E{:03}'"
   ]
  },
  {
   "cell_type": "code",
   "execution_count": null,
   "metadata": {
    "scrolled": true
   },
   "outputs": [],
   "source": [
    "fm = FineModel.get_dict()['mobileneta25']()\n",
    "verbose_model_name = 'MobileNetV1 (a=0.25)'\n",
    "metric='val_loss'\n",
    "depth_index = 0\n",
    "lr_index = 0\n",
    "lr = 0.01\n",
    "\n",
    "analyze_lr(fm, verbose_model_name, depth_index=depth_index, lr_index=lr_index, lr_value=lr, metric=metric, exp=exp)"
   ]
  },
  {
   "cell_type": "code",
   "execution_count": null,
   "metadata": {},
   "outputs": [],
   "source": [
    "FineModel.get_dict().keys()"
   ]
  },
  {
   "cell_type": "code",
   "execution_count": null,
   "metadata": {
    "scrolled": false
   },
   "outputs": [],
   "source": [
    "fm = FineModel.get_dict()['mobileneta25']()\n",
    "verbose_model_name = 'MobileNetV1 (a=0.25)'\n",
    "metric='val_acc'\n",
    "depth_index = 0\n",
    "\n",
    "analyze_depth(fm, verbose_model_name, depth_index=depth_index, metric=metric, exp=exp)"
   ]
  }
 ],
 "metadata": {
  "kernelspec": {
   "display_name": "Python 3",
   "language": "python",
   "name": "python3"
  },
  "language_info": {
   "codemirror_mode": {
    "name": "ipython",
    "version": 3
   },
   "file_extension": ".py",
   "mimetype": "text/x-python",
   "name": "python",
   "nbconvert_exporter": "python",
   "pygments_lexer": "ipython3",
   "version": "3.7.3"
  }
 },
 "nbformat": 4,
 "nbformat_minor": 2
}
