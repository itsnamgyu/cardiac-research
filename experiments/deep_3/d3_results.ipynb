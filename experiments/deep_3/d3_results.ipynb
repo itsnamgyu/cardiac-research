{
 "cells": [
  {
   "cell_type": "code",
   "execution_count": null,
   "metadata": {
    "scrolled": true
   },
   "outputs": [],
   "source": [
    "import core\n",
    "import imp\n",
    "import os\n",
    "import shutil\n",
    "\n",
    "import cr_interface as cri\n",
    "import cr_analysis as cra\n",
    "\n",
    "import core.fine_model\n",
    "from core.fine_model import FineModel"
   ]
  },
  {
   "cell_type": "code",
   "execution_count": null,
   "metadata": {
    "scrolled": false
   },
   "outputs": [],
   "source": [
    "imp.reload(cri)\n",
    "imp.reload(core.fine_model)\n",
    "imp.reload(cra)"
   ]
  },
  {
   "cell_type": "code",
   "execution_count": null,
   "metadata": {},
   "outputs": [],
   "source": [
    "fm = FineModel.get_dict()['mobileneta25']()\n",
    "fm.get_weight_keys()"
   ]
  },
  {
   "cell_type": "code",
   "execution_count": null,
   "metadata": {
    "scrolled": true
   },
   "outputs": [],
   "source": [
    "key = 'EXP98_D00_L00_F00'\n",
    "fm.load_weights(key)\n",
    "fm.compile_model()\n",
    "test = cri.CrCollection.load().filter_by(dataset_index=1).tri_label().labeled()\n",
    "result = fm.generate_test_result(test, save_to_key=key)"
   ]
  },
  {
   "cell_type": "code",
   "execution_count": null,
   "metadata": {
    "scrolled": false
   },
   "outputs": [],
   "source": [
    "cra.get_results()\n",
    "result = cra.select_result()\n",
    "print(result.describe())"
   ]
  }
 ],
 "metadata": {
  "kernelspec": {
   "display_name": "Python 3",
   "language": "python",
   "name": "python3"
  },
  "language_info": {
   "codemirror_mode": {
    "name": "ipython",
    "version": 3
   },
   "file_extension": ".py",
   "mimetype": "text/x-python",
   "name": "python",
   "nbconvert_exporter": "python",
   "pygments_lexer": "ipython3",
   "version": "3.6.5"
  }
 },
 "nbformat": 4,
 "nbformat_minor": 2
}
