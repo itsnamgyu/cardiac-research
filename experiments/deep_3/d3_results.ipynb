{
 "cells": [
  {
   "cell_type": "code",
   "execution_count": null,
   "metadata": {
    "scrolled": true
   },
   "outputs": [],
   "source": [
    "import core\n",
    "import imp\n",
    "import os\n",
    "import shutil\n",
    "\n",
    "import cr_interface as cri\n",
    "import cr_analysis as cra\n",
    "\n",
    "imp.reload(core.fine_model)\n",
    "from core.fine_model import FineModel"
   ]
  },
  {
   "cell_type": "code",
   "execution_count": null,
   "metadata": {},
   "outputs": [],
   "source": [
    "fm = FineModel.get_dict()['mobileneta25']()\n",
    "fm.get_weight_keys()"
   ]
  },
  {
   "cell_type": "code",
   "execution_count": null,
   "metadata": {
    "scrolled": true
   },
   "outputs": [],
   "source": [
    "fm.load_weights('EXP98_D00_L00_F00')\n",
    "fm.compile_model()\n",
    "test = cri.CrCollection.load().filter_by(dataset_index=1).tri_label().labeled()\n",
    "result = fm.generate_test_result(test)"
   ]
  },
  {
   "cell_type": "code",
   "execution_count": null,
   "metadata": {
    "scrolled": true
   },
   "outputs": [],
   "source": [
    "print(result.describe())"
   ]
  },
  {
   "cell_type": "code",
   "execution_count": null,
   "metadata": {
    "scrolled": true
   },
   "outputs": [],
   "source": [
    "result.to_json('EXP00_D00_L00_F00')"
   ]
  }
 ],
 "metadata": {
  "kernelspec": {
   "display_name": "Python 3",
   "language": "python",
   "name": "python3"
  },
  "language_info": {
   "codemirror_mode": {
    "name": "ipython",
    "version": 3
   },
   "file_extension": ".py",
   "mimetype": "text/x-python",
   "name": "python",
   "nbconvert_exporter": "python",
   "pygments_lexer": "ipython3",
   "version": "3.6.5"
  }
 },
 "nbformat": 4,
 "nbformat_minor": 2
}
