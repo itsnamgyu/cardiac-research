{
 "cells": [
  {
   "cell_type": "code",
   "execution_count": 1,
   "metadata": {},
   "outputs": [
    {
     "name": "stderr",
     "output_type": "stream",
     "text": [
      "Using TensorFlow backend.\n"
     ]
    }
   ],
   "source": [
    "from collections import defaultdict\n",
    "import os\n",
    "\n",
    "import keras\n",
    "from keras.models import Model\n",
    "from PIL import Image\n",
    "import matplotlib as mpl\n",
    "import matplotlib.pyplot as plt\n",
    "import numpy as np\n",
    "from tqdm import tqdm\n",
    "import pandas as pd\n",
    "\n",
    "import core\n",
    "from core.cam import overlay_gradcam\n",
    "from core.fine_model import FineModel\n",
    "import cr_interface as cri\n",
    "from cr_interface import CrCollection\n",
    "\n",
    "from sklearn.manifold import TSNE"
   ]
  },
  {
   "cell_type": "code",
   "execution_count": 2,
   "metadata": {},
   "outputs": [],
   "source": [
    "CACHE_DIR = os.path.join(os.getcwd(), 'cache')\n",
    "os.makedirs(CACHE_DIR, exist_ok=True)"
   ]
  },
  {
   "cell_type": "code",
   "execution_count": 158,
   "metadata": {},
   "outputs": [],
   "source": [
    "def get_partial_model(model: keras.models.Model):\n",
    "    \"\"\"Get model that outputs pooled features\n",
    "    \"\"\"\n",
    "    def _get_penultimate_layer_index(model):\n",
    "        for index, layer in enumerate(model.layers):\n",
    "            if isinstance(layer, keras.layers.pooling.GlobalAveragePooling2D):\n",
    "                return index\n",
    "        raise AssertionError(\"model should have a GlobalAveragePooling2D layer\")\n",
    "    layer_index = _get_penultimate_layer_index(model)\n",
    "    return Model(inputs=model.input, outputs=model.layers[layer_index].output)"
   ]
  },
  {
   "cell_type": "markdown",
   "metadata": {},
   "source": [
    "## Init MobileNet w/ Custom Classifier"
   ]
  },
  {
   "cell_type": "code",
   "execution_count": 133,
   "metadata": {},
   "outputs": [],
   "source": [
    "base_model = keras.applications.mobilenet.MobileNet(include_top=False, pooling='avg', weights='imagenet', input_shape=(224, 224, 3))"
   ]
  },
  {
   "cell_type": "code",
   "execution_count": 142,
   "metadata": {},
   "outputs": [],
   "source": [
    "from keras.layers import Flatten, Dense, Dropout\n",
    "outputs = base_model.output\n",
    "outputs = Dropout(0.5)(outputs)\n",
    "outputs = Dense(2, activation=\"softmax\")(outputs)\n",
    "model = keras.models.Model(inputs=base_model.input, outputs=outputs)"
   ]
  },
  {
   "cell_type": "code",
   "execution_count": 144,
   "metadata": {},
   "outputs": [],
   "source": [
    "# Freeze layers\n",
    "for index in range(gap_layer + 1):\n",
    "    model.layers[index].trainable = False\n",
    "    if isinstance(layer, keras.layers.pooling.GlobalAveragePooling2D):\n",
    "        break"
   ]
  },
  {
   "cell_type": "code",
   "execution_count": 145,
   "metadata": {},
   "outputs": [],
   "source": [
    "optimizer = keras.optimizers.Adam()"
   ]
  },
  {
   "cell_type": "code",
   "execution_count": 146,
   "metadata": {},
   "outputs": [],
   "source": [
    "model.compile(optimizer=optimizer, loss=\"categorical_crossentropy\", metrics=[\"accuracy\"])"
   ]
  },
  {
   "cell_type": "markdown",
   "metadata": {},
   "source": [
    "## Define data"
   ]
  },
  {
   "cell_type": "code",
   "execution_count": 147,
   "metadata": {
    "scrolled": true
   },
   "outputs": [],
   "source": [
    "datagen = keras.preprocessing.image.ImageDataGenerator(\n",
    "    preprocessing_function=keras.applications.mobilenet.preprocess_input)\n",
    "aug_datagen = keras.preprocessing.image.ImageDataGenerator(\n",
    "    rotation_range=40,\n",
    "    width_shift_range=0.2,\n",
    "    height_shift_range=0.2,\n",
    "    shear_range=0.2,\n",
    "    zoom_range=0.2,\n",
    "    horizontal_flip=True,\n",
    "    fill_mode='nearest',\n",
    "    preprocessing_function=keras.applications.mobilenet.preprocess_input)"
   ]
  },
  {
   "cell_type": "code",
   "execution_count": 204,
   "metadata": {
    "scrolled": false
   },
   "outputs": [
    {
     "name": "stdout",
     "output_type": "stream",
     "text": [
      "Found 800 images belonging to 2 classes.\n",
      "Found 200 images belonging to 2 classes.\n"
     ]
    }
   ],
   "source": [
    "input_shape = model.layers[0].input_shape[1:3]\n",
    "train_gen = aug_datagen.flow_from_directory('cd_train', target_size=input_shape, shuffle=True, batch_size=16)\n",
    "test_gen = datagen.flow_from_directory('cd_test', target_size=input_shape, shuffle=False, batch_size=16)"
   ]
  },
  {
   "cell_type": "markdown",
   "metadata": {},
   "source": [
    "## Train/Evaluate"
   ]
  },
  {
   "cell_type": "code",
   "execution_count": 149,
   "metadata": {
    "scrolled": false
   },
   "outputs": [
    {
     "name": "stdout",
     "output_type": "stream",
     "text": [
      "Epoch 1/10\n",
      "50/50 [==============================] - 45s 896ms/step - loss: 0.7158 - acc: 0.6900 - val_loss: 0.3748 - val_acc: 0.8400\n",
      "Epoch 2/10\n",
      "50/50 [==============================] - 43s 869ms/step - loss: 0.4050 - acc: 0.8263 - val_loss: 0.1279 - val_acc: 0.9450\n",
      "Epoch 3/10\n",
      "50/50 [==============================] - 43s 868ms/step - loss: 0.2919 - acc: 0.8925 - val_loss: 0.1403 - val_acc: 0.9400\n",
      "Epoch 4/10\n",
      "50/50 [==============================] - 43s 870ms/step - loss: 0.2666 - acc: 0.8812 - val_loss: 0.1076 - val_acc: 0.9450\n",
      "Epoch 5/10\n",
      "50/50 [==============================] - 48s 963ms/step - loss: 0.2483 - acc: 0.8988 - val_loss: 0.0957 - val_acc: 0.9450\n",
      "Epoch 6/10\n",
      "50/50 [==============================] - 56s 1s/step - loss: 0.1973 - acc: 0.9137 - val_loss: 0.0977 - val_acc: 0.9400\n",
      "Epoch 7/10\n",
      "50/50 [==============================] - 49s 973ms/step - loss: 0.2232 - acc: 0.9150 - val_loss: 0.0910 - val_acc: 0.9550\n",
      "Epoch 8/10\n",
      "50/50 [==============================] - 60s 1s/step - loss: 0.2213 - acc: 0.9137 - val_loss: 0.1835 - val_acc: 0.9100\n",
      "Epoch 9/10\n",
      "50/50 [==============================] - 57s 1s/step - loss: 0.2053 - acc: 0.9163 - val_loss: 0.0691 - val_acc: 0.9800\n",
      "Epoch 10/10\n",
      "50/50 [==============================] - 46s 917ms/step - loss: 0.1685 - acc: 0.9275 - val_loss: 0.1720 - val_acc: 0.9200\n"
     ]
    },
    {
     "data": {
      "text/plain": [
       "<keras.callbacks.History at 0x14e48c828>"
      ]
     },
     "execution_count": 149,
     "metadata": {},
     "output_type": "execute_result"
    }
   ],
   "source": [
    "model.fit_generator(train_gen, validation_data=test_gen, validation_steps=len(test_gen), steps_per_epoch=len(train_gen), epochs=10)"
   ]
  },
  {
   "cell_type": "code",
   "execution_count": 162,
   "metadata": {
    "scrolled": true
   },
   "outputs": [
    {
     "name": "stdout",
     "output_type": "stream",
     "text": [
      "13/13 [==============================] - 11s 809ms/step\n"
     ]
    },
    {
     "data": {
      "text/plain": [
       "[0.1719984143367037, 0.92]"
      ]
     },
     "execution_count": 162,
     "metadata": {},
     "output_type": "execute_result"
    }
   ],
   "source": [
    "model.evaluate_generator(test_gen, steps=len(test_gen), verbose=1)"
   ]
  },
  {
   "cell_type": "markdown",
   "metadata": {},
   "source": [
    "## Manual Prediction"
   ]
  },
  {
   "cell_type": "code",
   "execution_count": 156,
   "metadata": {
    "scrolled": true
   },
   "outputs": [],
   "source": [
    "image = keras.preprocessing.image.load_img('image.jpg', target_size=(224, 224))\n",
    "image = keras.preprocessing.image.img_to_array(image)\n",
    "image = image.reshape((1,) + image.shape)\n",
    "image = keras.applications.mobilenet.preprocess_input(image)"
   ]
  },
  {
   "cell_type": "code",
   "execution_count": 157,
   "metadata": {
    "scrolled": true
   },
   "outputs": [
    {
     "data": {
      "text/plain": [
       "array([[0.2665939, 0.7334061]], dtype=float32)"
      ]
     },
     "execution_count": 157,
     "metadata": {},
     "output_type": "execute_result"
    }
   ],
   "source": [
    "result = model.predict(image)\n",
    "result"
   ]
  },
  {
   "cell_type": "markdown",
   "metadata": {},
   "source": [
    "## Extract Intermediate (Pooled) Features"
   ]
  },
  {
   "cell_type": "code",
   "execution_count": 205,
   "metadata": {
    "scrolled": true
   },
   "outputs": [],
   "source": [
    "partial = get_partial_model(model)\n",
    "test_gen.reset()\n",
    "features = partial.predict_generator(test_gen, steps=len(test_gen))"
   ]
  },
  {
   "cell_type": "code",
   "execution_count": 206,
   "metadata": {},
   "outputs": [
    {
     "data": {
      "text/plain": [
       "(200, 1024)"
      ]
     },
     "execution_count": 206,
     "metadata": {},
     "output_type": "execute_result"
    }
   ],
   "source": [
    "features.shape"
   ]
  },
  {
   "cell_type": "markdown",
   "metadata": {},
   "source": [
    "## Cache Outputs"
   ]
  },
  {
   "cell_type": "code",
   "execution_count": 207,
   "metadata": {},
   "outputs": [],
   "source": [
    "output_cache_path = os.path.join(CACHE_DIR, 'pooled_output_cd.npy')"
   ]
  },
  {
   "cell_type": "code",
   "execution_count": 208,
   "metadata": {},
   "outputs": [],
   "source": [
    "np.save(output_cache_path, features)"
   ]
  },
  {
   "cell_type": "code",
   "execution_count": 209,
   "metadata": {},
   "outputs": [],
   "source": [
    "features = np.load(output_cache_path)"
   ]
  },
  {
   "cell_type": "markdown",
   "metadata": {},
   "source": [
    "## Validate Extracted Features"
   ]
  },
  {
   "cell_type": "code",
   "execution_count": 219,
   "metadata": {
    "scrolled": true
   },
   "outputs": [],
   "source": [
    "input_step = keras.layers.Input(model.layers[88].input_shape[1:])\n",
    "step = input_step\n",
    "for layer in model.layers[88:]:\n",
    "    step = layer(step)\n",
    "classifier = Model(inputs=input_step, outputs=step)"
   ]
  },
  {
   "cell_type": "code",
   "execution_count": 220,
   "metadata": {},
   "outputs": [],
   "source": [
    "classes = classifier.predict(features)"
   ]
  },
  {
   "cell_type": "code",
   "execution_count": 224,
   "metadata": {},
   "outputs": [
    {
     "data": {
      "text/plain": [
       "[<matplotlib.lines.Line2D at 0x14eefdf28>]"
      ]
     },
     "execution_count": 224,
     "metadata": {},
     "output_type": "execute_result"
    },
    {
     "data": {
      "image/png": "[encoded data removed]",
      "text/plain": [
       "<Figure size 432x288 with 1 Axes>"
      ]
     },
     "metadata": {
      "needs_background": "light"
     },
     "output_type": "display_data"
    }
   ],
   "source": [
    "plt.plot(classes[:,0])"
   ]
  },
  {
   "cell_type": "markdown",
   "metadata": {},
   "source": [
    "## Extract tSNE"
   ]
  },
  {
   "cell_type": "code",
   "execution_count": 213,
   "metadata": {},
   "outputs": [],
   "source": [
    "raw = TSNE(n_components=2, random_state=0).fit_transform(features)"
   ]
  },
  {
   "cell_type": "code",
   "execution_count": 214,
   "metadata": {},
   "outputs": [
    {
     "data": {
      "text/plain": [
       "(200, 2)"
      ]
     },
     "execution_count": 214,
     "metadata": {},
     "output_type": "execute_result"
    }
   ],
   "source": [
    "raw.shape"
   ]
  },
  {
   "cell_type": "markdown",
   "metadata": {},
   "source": [
    "## Plot tSNE"
   ]
  },
  {
   "cell_type": "code",
   "execution_count": 225,
   "metadata": {},
   "outputs": [],
   "source": [
    "LABEL_INDICES = {\n",
    "    'oap': 0,\n",
    "    'obs': 1,\n",
    "    'in': 2,\n",
    "}\n",
    "\n",
    "def get_tsne_figure(raw):\n",
    "    embeddings = pd.DataFrame(raw)\n",
    "    embeddings.columns = ['x', 'y']\n",
    "    embeddings['label_index'] = [0] * 100 + [1] * 100\n",
    "    \n",
    "    fig = mpl.figure.Figure(figsize=(8, 6), constrained_layout=True)\n",
    "    ax = fig.subplots()\n",
    "    scatter = ax.scatter(embeddings.x, embeddings.y, c=embeddings.label_index, cmap='viridis', alpha=0.8)\n",
    "    legend1 = ax.legend(scatter.legend_elements()[0],\n",
    "                        ['CAT', 'DOG'],\n",
    "                        title=\"Ground Truth\")\n",
    "    fig_title = 'tSNE Analysis of Cat/Dog Features'\n",
    "    fig.suptitle(fig_title, fontweight='bold', fontsize=14)\n",
    "    \n",
    "    return fig"
   ]
  },
  {
   "cell_type": "code",
   "execution_count": 226,
   "metadata": {
    "scrolled": true
   },
   "outputs": [
    {
     "data": {
      "image/png": "[encoded data removed]",
      "text/plain": [
       "<Figure size 576x432 with 1 Axes>"
      ]
     },
     "execution_count": 226,
     "metadata": {},
     "output_type": "execute_result"
    }
   ],
   "source": [
    "fig = get_tsne_figure(raw)\n",
    "fig"
   ]
  },
  {
   "cell_type": "code",
   "execution_count": 228,
   "metadata": {},
   "outputs": [],
   "source": [
    "fig.savefig('tSNE_cat_dog.png', dpi=320, bbox_inches='tight')"
   ]
  }
 ],
 "metadata": {
  "kernelspec": {
   "display_name": "Python 3",
   "language": "python",
   "name": "python3"
  },
  "language_info": {
   "codemirror_mode": {
    "name": "ipython",
    "version": 3
   },
   "file_extension": ".py",
   "mimetype": "text/x-python",
   "name": "python",
   "nbconvert_exporter": "python",
   "pygments_lexer": "ipython3",
   "version": "3.7.3"
  }
 },
 "nbformat": 4,
 "nbformat_minor": 2
}
