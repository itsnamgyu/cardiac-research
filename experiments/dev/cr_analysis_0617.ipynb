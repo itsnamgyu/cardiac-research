{
 "cells": [
  {
   "cell_type": "code",
   "execution_count": 243,
   "metadata": {},
   "outputs": [],
   "source": [
    "import cr_analysis as cra\n",
    "import numpy as np\n",
    "import pandas as pd\n",
    "import sklearn.metrics"
   ]
  },
  {
   "cell_type": "code",
   "execution_count": 244,
   "metadata": {
    "scrolled": true
   },
   "outputs": [
    {
     "data": {
      "text/plain": [
       "<module 'cr_analysis' from '/Users/itsnamgyu/code/cardiac-research/cr_analysis.py'>"
      ]
     },
     "execution_count": 244,
     "metadata": {},
     "output_type": "execute_result"
    }
   ],
   "source": [
    "import imp\n",
    "imp.reload(cr_analysis)"
   ]
  },
  {
   "cell_type": "code",
   "execution_count": 245,
   "metadata": {},
   "outputs": [],
   "source": [
    "from cr_analysis import Result"
   ]
  },
  {
   "cell_type": "code",
   "execution_count": 226,
   "metadata": {
    "scrolled": true
   },
   "outputs": [
    {
     "name": "stdout",
     "output_type": "stream",
     "text": [
      "--------------------------------- Results List ---------------------------------\n",
      "  #. KEY                                     ACC       F1_MACRO  \n",
      "--------------------------------------------------------------------------------\n",
      "  0. mobileneta25/EXP02_D00_L00_F00          0.7833    0.6459    \n",
      "  1. mobileneta25/EXP02_D00_L00_F01          0.8327    0.6284    \n",
      "  2. mobileneta25/EXP02_D00_L00_F02          0.8042    0.5668    \n",
      "  3. mobileneta25/EXP02_D00_L00_F03          0.7776    0.6380    \n",
      "  4. mobileneta25/EXP02_D00_L00_F04          0.8308    0.6140    \n",
      "  5. mobileneta25/EXP02_D00_L01_F00          0.7871    0.4879    \n",
      "  6. mobileneta25/EXP02_D00_L01_F01          0.4791    0.4743    \n",
      "  7. mobileneta25/EXP02_D00_L01_F02          0.7167    0.4374    \n",
      "  8. mobileneta25/EXP02_D00_L01_F03          0.7624    0.4656    \n",
      "  9. mobileneta25/EXP02_D00_L01_F04          0.7262    0.4145    \n",
      " 10. mobileneta25/EXP03_D00_L00_F00          0.8783    0.7711    \n",
      " 11. mobileneta25/EXP03_D00_L00_F01          0.8422    0.6563    \n",
      " 12. mobileneta25/EXP03_D00_L00_F02          0.8555    0.6591    \n",
      " 13. mobileneta25/EXP03_D00_L00_F03          0.8175    0.5597    \n",
      " 14. mobileneta25/EXP03_D00_L00_F04          0.8061    0.4678    \n",
      " 15. mobileneta25/EXP03_D00_L01_F00          0.7471    0.4841    \n",
      " 16. mobileneta25/EXP03_D00_L01_F01          0.2091    0.2923    \n",
      " 17. mobileneta25/EXP03_D00_L01_F02          0.8232    0.5288    \n",
      " 18. mobileneta25/EXP03_D00_L01_F03          0.5342    0.3943    \n",
      " 19. mobileneta25/EXP03_D00_L01_F04          0.5076    0.3531    \n",
      " 20. mobileneta25/EXP05_D00_L00_F00          0.8213    0.7150    \n",
      " 21. mobileneta25/EXP05_D00_L00_F01          0.8023    0.6512    \n",
      " 22. mobileneta25/EXP05_D00_L00_F02          0.8118    0.6599    \n",
      " 23. mobileneta25/EXP05_D00_L00_F03          0.8308    0.7270    \n",
      " 24. mobileneta25/EXP05_D00_L00_F04          0.8175    0.6472    \n",
      " 25. mobileneta25/EXP05_D00_L01_F00          0.8004    0.6131    \n",
      " 26. mobileneta25/EXP05_D00_L01_F01          0.7624    0.6470    \n",
      " 27. mobileneta25/EXP05_D00_L01_F02          0.8042    0.6859    \n",
      " 28. mobileneta25/EXP05_D00_L01_F03          0.7947    0.5849    \n",
      " 29. mobileneta25/EXP05_D00_L01_F04          0.7909    0.4469    \n",
      "--------------------------------------------------------------------------------\n",
      "Which of the results would you like to use? 0\n"
     ]
    }
   ],
   "source": [
    "result = Result.select()"
   ]
  },
  {
   "cell_type": "code",
   "execution_count": 218,
   "metadata": {
    "scrolled": false
   },
   "outputs": [
    {
     "data": {
      "text/plain": [
       "{'truth': 'in',\n",
       " 'prediction': 'in',\n",
       " 'percentages': {'in': '0.7334755', 'oap': '0.06532377', 'obs': '0.20120081'}}"
      ]
     },
     "execution_count": 218,
     "metadata": {},
     "output_type": "execute_result"
    }
   ],
   "source": [
    "list(result.data['predictions'].values())[0]"
   ]
  },
  {
   "cell_type": "code",
   "execution_count": 219,
   "metadata": {
    "scrolled": true
   },
   "outputs": [
    {
     "name": "stdout",
     "output_type": "stream",
     "text": [
      "Model             : mobileneta25 analyzed on 2019-05-31 04:29:57\n",
      "accuracy          : 0.783270\n",
      "soft_accuracy     : 0.880228\n",
      "auc_micro         : 0.934393\n",
      "auc_macro         : 0.906127\n",
      "f1_micro          : 0.783270\n",
      "f1_macro          : 0.645866\n",
      "\n",
      "prediction   in  oap  obs\n",
      "truth                    \n",
      "in          341   15   46\n",
      "oap          17   40   13\n",
      "obs          22    1   31\n",
      "\n",
      "     precision    recall\n",
      "in    0.897368  0.848259\n",
      "oap   0.714286  0.571429\n",
      "obs   0.344444  0.574074\n",
      "\n",
      "          auc        f1\n",
      "in   0.885392  0.872123\n",
      "oap  0.956892  0.634921\n",
      "obs  0.876099  0.430556\n",
      "\n"
     ]
    }
   ],
   "source": [
    "print(result.describe())"
   ]
  },
  {
   "cell_type": "code",
   "execution_count": 237,
   "metadata": {},
   "outputs": [
    {
     "data": {
      "text/plain": [
       "'2.0'"
      ]
     },
     "execution_count": 237,
     "metadata": {},
     "output_type": "execute_result"
    }
   ],
   "source": [
    "result.data['schema_version']"
   ]
  },
  {
   "cell_type": "code",
   "execution_count": 246,
   "metadata": {
    "scrolled": false
   },
   "outputs": [
    {
     "name": "stdout",
     "output_type": "stream",
     "text": [
      "Exporting csv to /Users/itsnamgyu/code/cardiac-research/results.csv\n"
     ]
    }
   ],
   "source": [
    "cra.export_csv()"
   ]
  },
  {
   "cell_type": "code",
   "execution_count": 180,
   "metadata": {},
   "outputs": [],
   "source": [
    "DEFAULT_CLASSES = ['in', 'oap', 'obs']\n",
    "\n",
    "def _extract_truth_array(prediction, keys=DEFAULT_CLASSES):\n",
    "    array = []\n",
    "    for cls in keys:\n",
    "        if (cls == prediction['truth']):\n",
    "            array.append(1.0)\n",
    "        else:\n",
    "            array.append(0.0)\n",
    "    return array\n",
    "            \n",
    "def _extract_percentage_array(prediction, keys=DEFAULT_CLASSES):\n",
    "    array = []\n",
    "    for cls in keys:\n",
    "        array.append(float(prediction['percentages'][cls]))\n",
    "    return array\n",
    "\n",
    "def _extract_prediction_array(prediction, keys=DEFAULT_CLASSES):\n",
    "    array = []\n",
    "    for cls in keys:\n",
    "        if (cls == prediction['prediction']):\n",
    "            array.append(1.0)\n",
    "        else:\n",
    "            array.append(0.0)\n",
    "    return array"
   ]
  },
  {
   "cell_type": "code",
   "execution_count": 158,
   "metadata": {},
   "outputs": [
    {
     "data": {
      "text/html": [
       "<div>\n",
       "<style scoped>\n",
       "    .dataframe tbody tr th:only-of-type {\n",
       "        vertical-align: middle;\n",
       "    }\n",
       "\n",
       "    .dataframe tbody tr th {\n",
       "        vertical-align: top;\n",
       "    }\n",
       "\n",
       "    .dataframe thead th {\n",
       "        text-align: right;\n",
       "    }\n",
       "</style>\n",
       "<table border=\"1\" class=\"dataframe\">\n",
       "  <thead>\n",
       "    <tr style=\"text-align: right;\">\n",
       "      <th></th>\n",
       "      <th>auc</th>\n",
       "      <th>f1</th>\n",
       "    </tr>\n",
       "  </thead>\n",
       "  <tbody>\n",
       "    <tr>\n",
       "      <th>in</th>\n",
       "      <td>0.868340</td>\n",
       "      <td>0.880290</td>\n",
       "    </tr>\n",
       "    <tr>\n",
       "      <th>oap</th>\n",
       "      <td>0.948371</td>\n",
       "      <td>0.650602</td>\n",
       "    </tr>\n",
       "    <tr>\n",
       "      <th>obs</th>\n",
       "      <td>0.889634</td>\n",
       "      <td>0.169492</td>\n",
       "    </tr>\n",
       "  </tbody>\n",
       "</table>\n",
       "</div>"
      ],
      "text/plain": [
       "          auc        f1\n",
       "in   0.868340  0.880290\n",
       "oap  0.948371  0.650602\n",
       "obs  0.889634  0.169492"
      ]
     },
     "execution_count": 158,
     "metadata": {},
     "output_type": "execute_result"
    }
   ],
   "source": [
    "self = result\n",
    "\n",
    "predictions = self.data['predictions'].values()\n",
    "truth_vectors = np.array(list(map(_extract_truth_array, predictions)))\n",
    "percentage_vectors = np.array(list(map(_extract_percentage_array, predictions)))\n",
    "prediction_vectors = np.array(list(map(_extract_prediction_array, predictions)))\n",
    "\n",
    "auc = sklearn.metrics.roc_auc_score(truth_vectors, percentage_vectors, average=None)\n",
    "auc = dict(zip(keys, auc))\n",
    "f1 = sklearn.metrics.f1_score(truth_vectors, prediction_vectors, average=None)\n",
    "f1 = dict(zip(keys, f1))\n",
    "\n",
    "pd.DataFrame(dict(auc=auc, f1=f1))"
   ]
  },
  {
   "cell_type": "code",
   "execution_count": 159,
   "metadata": {
    "scrolled": true
   },
   "outputs": [
    {
     "data": {
      "text/html": [
       "<div>\n",
       "<style scoped>\n",
       "    .dataframe tbody tr th:only-of-type {\n",
       "        vertical-align: middle;\n",
       "    }\n",
       "\n",
       "    .dataframe tbody tr th {\n",
       "        vertical-align: top;\n",
       "    }\n",
       "\n",
       "    .dataframe thead th {\n",
       "        text-align: right;\n",
       "    }\n",
       "</style>\n",
       "<table border=\"1\" class=\"dataframe\">\n",
       "  <thead>\n",
       "    <tr style=\"text-align: right;\">\n",
       "      <th></th>\n",
       "      <th>auc</th>\n",
       "      <th>f1</th>\n",
       "    </tr>\n",
       "  </thead>\n",
       "  <tbody>\n",
       "    <tr>\n",
       "      <th>in</th>\n",
       "      <td>0.868340</td>\n",
       "      <td>0.880290</td>\n",
       "    </tr>\n",
       "    <tr>\n",
       "      <th>oap</th>\n",
       "      <td>0.948371</td>\n",
       "      <td>0.650602</td>\n",
       "    </tr>\n",
       "    <tr>\n",
       "      <th>obs</th>\n",
       "      <td>0.889634</td>\n",
       "      <td>0.169492</td>\n",
       "    </tr>\n",
       "  </tbody>\n",
       "</table>\n",
       "</div>"
      ],
      "text/plain": [
       "          auc        f1\n",
       "in   0.868340  0.880290\n",
       "oap  0.948371  0.650602\n",
       "obs  0.889634  0.169492"
      ]
     },
     "execution_count": 159,
     "metadata": {},
     "output_type": "execute_result"
    }
   ],
   "source": [
    "result.get_auc_f1_by_class()"
   ]
  },
  {
   "cell_type": "code",
   "execution_count": 160,
   "metadata": {},
   "outputs": [
    {
     "name": "stdout",
     "output_type": "stream",
     "text": [
      "0.9437970767251226 0.9021150059648378 0.8041825095057035 0.5667947135415188\n"
     ]
    }
   ],
   "source": [
    "self = result\n",
    "\n",
    "predictions = self.data['predictions'].values()\n",
    "truth_vectors = np.array(list(map(self._extract_truth_array, predictions)))\n",
    "percentage_vectors = np.array(list(map(self._extract_percentage_array, predictions)))\n",
    "prediction_vectors = np.array(list(map(self._extract_prediction_array, predictions)))\n",
    "\n",
    "auc_micro = sklearn.metrics.roc_auc_score(truth_vectors, percentage_vectors, average='micro')\n",
    "auc_macro = sklearn.metrics.roc_auc_score(truth_vectors, percentage_vectors, average='macro')\n",
    "f1_micro = sklearn.metrics.f1_score(truth_vectors, prediction_vectors, average='micro')\n",
    "f1_macro = sklearn.metrics.f1_score(truth_vectors, prediction_vectors, average='macro')\n",
    "\n",
    "print(auc_micro, auc_macro, f1_micro, f1_macro)"
   ]
  },
  {
   "cell_type": "code",
   "execution_count": 181,
   "metadata": {
    "scrolled": true
   },
   "outputs": [
    {
     "data": {
      "text/plain": [
       "{'auc_micro': 0.9343925747083232,\n",
       " 'auc_macro': 0.9061274590648885,\n",
       " 'f1_micro': 0.7832699619771865,\n",
       " 'f1_macro': 0.6458663175415095}"
      ]
     },
     "execution_count": 181,
     "metadata": {},
     "output_type": "execute_result"
    }
   ],
   "source": [
    "result.get_auc_f1()"
   ]
  },
  {
   "cell_type": "code",
   "execution_count": null,
   "metadata": {},
   "outputs": [],
   "source": []
  }
 ],
 "metadata": {
  "kernelspec": {
   "display_name": "Python 3",
   "language": "python",
   "name": "python3"
  },
  "language_info": {
   "codemirror_mode": {
    "name": "ipython",
    "version": 3
   },
   "file_extension": ".py",
   "mimetype": "text/x-python",
   "name": "python",
   "nbconvert_exporter": "python",
   "pygments_lexer": "ipython3",
   "version": "3.6.5"
  }
 },
 "nbformat": 4,
 "nbformat_minor": 2
}
