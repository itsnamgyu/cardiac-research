{
 "cells": [
  {
   "cell_type": "code",
   "execution_count": 1,
   "metadata": {
    "scrolled": true
   },
   "outputs": [
    {
     "name": "stderr",
     "output_type": "stream",
     "text": [
      "Using TensorFlow backend.\n"
     ]
    }
   ],
   "source": [
    "import core.fine_model as fm"
   ]
  },
  {
   "cell_type": "code",
   "execution_count": 2,
   "metadata": {},
   "outputs": [
    {
     "data": {
      "text/plain": [
       "[core.fine_model.FineXception,\n",
       " core.fine_model.FineMobileNetA25,\n",
       " core.fine_model.FineMobileNetV2A35,\n",
       " core.fine_model.FineVGG16,\n",
       " core.fine_model.FineResNet50V2,\n",
       " core.fine_model.FineInceptionV3,\n",
       " core.fine_model.FineInceptionResNetV2,\n",
       " core.fine_model.FineDenseNet121,\n",
       " core.fine_model.FineNASNetMobile]"
      ]
     },
     "execution_count": 2,
     "metadata": {},
     "output_type": "execute_result"
    }
   ],
   "source": [
    "fm.FineModel.get_list()"
   ]
  },
  {
   "cell_type": "code",
   "execution_count": 3,
   "metadata": {
    "scrolled": false
   },
   "outputs": [
    {
     "name": "stdout",
     "output_type": "stream",
     "text": [
      "Loading model xception... complete!\n",
      "Loading model mobileneta25... complete!\n",
      "Loading model mobilenetv2a35... complete!\n",
      "Loading model vgg16... complete!\n",
      "Loading model resnet50v2... Downloading data from https://github.com/keras-team/keras-applications/releases/download/resnet/resnet50v2_weights_tf_dim_ordering_tf_kernels_notop.h5\n",
      "94674944/94668760 [==============================] - 122s 1us/step\n",
      "complete!\n",
      "Loading model inception_v3... complete!\n",
      "Loading model inception_resnet_v2... complete!\n",
      "Loading model densenet121... Downloading data from https://github.com/keras-team/keras-applications/releases/download/densenet/densenet121_weights_tf_dim_ordering_tf_kernels_notop.h5\n",
      "29089792/29084464 [==============================] - 29s 1us/step\n",
      "complete!\n",
      "Loading model nasnet_mobile... Downloading data from https://github.com/titu1994/Keras-NASNet/releases/download/v1.2/NASNet-mobile-no-top.h5\n",
      "19996672/19993432 [==============================] - 32s 2us/step\n",
      "complete!\n"
     ]
    }
   ],
   "source": [
    "for cls in fm.FineModel.get_list():\n",
    "    cls().get_model()"
   ]
  }
 ],
 "metadata": {
  "kernelspec": {
   "display_name": "Python 3",
   "language": "python",
   "name": "python3"
  },
  "language_info": {
   "codemirror_mode": {
    "name": "ipython",
    "version": 3
   },
   "file_extension": ".py",
   "mimetype": "text/x-python",
   "name": "python",
   "nbconvert_exporter": "python",
   "pygments_lexer": "ipython3",
   "version": "3.6.5"
  }
 },
 "nbformat": 4,
 "nbformat_minor": 2
}
