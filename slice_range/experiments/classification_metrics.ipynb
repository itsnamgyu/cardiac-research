{
 "cells": [
  {
   "cell_type": "code",
   "execution_count": 2,
   "metadata": {
    "scrolled": false
   },
   "outputs": [
    {
     "name": "stderr",
     "output_type": "stream",
     "text": [
      "/usr/local/Cellar/python/3.6.5_1/Frameworks/Python.framework/Versions/3.6/lib/python3.6/importlib/_bootstrap.py:219: RuntimeWarning: numpy.dtype size changed, may indicate binary incompatibility. Expected 96, got 88\n",
      "  return f(*args, **kwds)\n"
     ]
    }
   ],
   "source": [
    "import sys\n",
    "sys.path.append(\"..\")\n",
    "import cr_interface as cri\n",
    "import numpy as np\n",
    "import pandas as pd\n",
    "import sklearn as skl"
   ]
  },
  {
   "cell_type": "code",
   "execution_count": 3,
   "metadata": {
    "scrolled": true
   },
   "outputs": [],
   "source": [
    "results = cri.load_results()\n",
    "metadata = cri.load_metadata()"
   ]
  },
  {
   "cell_type": "code",
   "execution_count": 4,
   "metadata": {},
   "outputs": [
    {
     "data": {
      "text/plain": [
       "'0.8821138'"
      ]
     },
     "execution_count": 4,
     "metadata": {},
     "output_type": "execute_result"
    }
   ],
   "source": [
    "results.sort(key=lambda d: d['test_accuracy'])\n",
    "best_result = results[-1]\n",
    "best_result['test_accuracy']"
   ]
  },
  {
   "cell_type": "code",
   "execution_count": 5,
   "metadata": {},
   "outputs": [],
   "source": [
    "selected_result = best_result"
   ]
  },
  {
   "cell_type": "code",
   "execution_count": 6,
   "metadata": {
    "scrolled": true
   },
   "outputs": [],
   "source": [
    "def get_result_df(result, training=False):\n",
    "    if training:\n",
    "        cr_codes = map(cri.extract_cr_code, result['training_images'])\n",
    "    else:\n",
    "        cr_codes = map(cri.extract_cr_code, result['predictions'].keys())\n",
    "        \n",
    "    cr_codes = list(set(cr_codes))\n",
    "    \n",
    "    for i, cr_code in enumerate(cr_codes):\n",
    "        cr_codes[i] = 'D00' + cr_code[3:]\n",
    "\n",
    "    extract_dataset = lambda cr_code: cri.parse_cr_code(cr_code)[0]\n",
    "    extract_pid = lambda cr_code: cri.parse_cr_code(cr_code)[1]\n",
    "    extract_phase = lambda cr_code: cri.parse_cr_code(cr_code)[2]\n",
    "    extract_slice = lambda cr_code: cri.parse_cr_code(cr_code)[3]\n",
    "\n",
    "    datasets = list(map(extract_dataset, cr_codes))\n",
    "    pids = list(map(extract_pid, cr_codes))\n",
    "    phases = list(map(extract_phase, cr_codes))\n",
    "    slices = list(map(extract_slice, cr_codes))\n",
    "\n",
    "    extract_label = lambda cr_code: metadata[cr_code]['label']\n",
    "    labels = list(map(extract_label, cr_codes))\n",
    "    \n",
    "    # make tri labels\n",
    "    for i, label in enumerate(labels):\n",
    "        if label in ['ap', 'bs', 'md']:\n",
    "            labels[i] = 'in'\n",
    "        \n",
    "    d = dict(\n",
    "            cr_code=cr_codes,\n",
    "            dataset=datasets,\n",
    "            pid=pids,\n",
    "            phase=phases,\n",
    "            slice=slices,\n",
    "            label=labels,\n",
    "    )\n",
    "    \n",
    "    if not training:\n",
    "        extract_prediction = lambda cr_code: result['predictions']['testing_{}'.format(cr_code)]['prediction']\n",
    "        predictions = list(map(extract_prediction, cr_codes))\n",
    "        d['prediction'] = predictions\n",
    "        \n",
    "\n",
    "    return pd.DataFrame(d)"
   ]
  },
  {
   "cell_type": "code",
   "execution_count": 9,
   "metadata": {},
   "outputs": [
    {
     "data": {
      "text/html": [
       "<div>\n",
       "<style scoped>\n",
       "    .dataframe tbody tr th:only-of-type {\n",
       "        vertical-align: middle;\n",
       "    }\n",
       "\n",
       "    .dataframe tbody tr th {\n",
       "        vertical-align: top;\n",
       "    }\n",
       "\n",
       "    .dataframe thead th {\n",
       "        text-align: right;\n",
       "    }\n",
       "</style>\n",
       "<table border=\"1\" class=\"dataframe\">\n",
       "  <thead>\n",
       "    <tr style=\"text-align: right;\">\n",
       "      <th></th>\n",
       "      <th>dataset</th>\n",
       "      <th>pid</th>\n",
       "      <th>phase</th>\n",
       "      <th>slice</th>\n",
       "    </tr>\n",
       "  </thead>\n",
       "  <tbody>\n",
       "    <tr>\n",
       "      <th>count</th>\n",
       "      <td>246.0</td>\n",
       "      <td>246.000000</td>\n",
       "      <td>246.0</td>\n",
       "      <td>246.000000</td>\n",
       "    </tr>\n",
       "    <tr>\n",
       "      <th>mean</th>\n",
       "      <td>0.0</td>\n",
       "      <td>41629.861789</td>\n",
       "      <td>0.0</td>\n",
       "      <td>5.821138</td>\n",
       "    </tr>\n",
       "    <tr>\n",
       "      <th>std</th>\n",
       "      <td>0.0</td>\n",
       "      <td>2625.996473</td>\n",
       "      <td>0.0</td>\n",
       "      <td>3.855624</td>\n",
       "    </tr>\n",
       "    <tr>\n",
       "      <th>min</th>\n",
       "      <td>0.0</td>\n",
       "      <td>35501.000000</td>\n",
       "      <td>0.0</td>\n",
       "      <td>0.000000</td>\n",
       "    </tr>\n",
       "    <tr>\n",
       "      <th>25%</th>\n",
       "      <td>0.0</td>\n",
       "      <td>39501.000000</td>\n",
       "      <td>0.0</td>\n",
       "      <td>3.000000</td>\n",
       "    </tr>\n",
       "    <tr>\n",
       "      <th>50%</th>\n",
       "      <td>0.0</td>\n",
       "      <td>42451.000000</td>\n",
       "      <td>0.0</td>\n",
       "      <td>6.000000</td>\n",
       "    </tr>\n",
       "    <tr>\n",
       "      <th>75%</th>\n",
       "      <td>0.0</td>\n",
       "      <td>43701.000000</td>\n",
       "      <td>0.0</td>\n",
       "      <td>9.000000</td>\n",
       "    </tr>\n",
       "    <tr>\n",
       "      <th>max</th>\n",
       "      <td>0.0</td>\n",
       "      <td>45301.000000</td>\n",
       "      <td>0.0</td>\n",
       "      <td>16.000000</td>\n",
       "    </tr>\n",
       "  </tbody>\n",
       "</table>\n",
       "</div>"
      ],
      "text/plain": [
       "       dataset           pid  phase       slice\n",
       "count    246.0    246.000000  246.0  246.000000\n",
       "mean       0.0  41629.861789    0.0    5.821138\n",
       "std        0.0   2625.996473    0.0    3.855624\n",
       "min        0.0  35501.000000    0.0    0.000000\n",
       "25%        0.0  39501.000000    0.0    3.000000\n",
       "50%        0.0  42451.000000    0.0    6.000000\n",
       "75%        0.0  43701.000000    0.0    9.000000\n",
       "max        0.0  45301.000000    0.0   16.000000"
      ]
     },
     "execution_count": 9,
     "metadata": {},
     "output_type": "execute_result"
    }
   ],
   "source": [
    "df = get_result_df(selected_result, training=False)\n",
    "df = df.drop_duplicates()\n",
    "pd.crosstab(df['label'], df['prediction'])\n",
    "df.describe()"
   ]
  },
  {
   "cell_type": "code",
   "execution_count": 10,
   "metadata": {},
   "outputs": [
    {
     "data": {
      "text/html": [
       "<div>\n",
       "<style scoped>\n",
       "    .dataframe tbody tr th:only-of-type {\n",
       "        vertical-align: middle;\n",
       "    }\n",
       "\n",
       "    .dataframe tbody tr th {\n",
       "        vertical-align: top;\n",
       "    }\n",
       "\n",
       "    .dataframe thead th {\n",
       "        text-align: right;\n",
       "    }\n",
       "</style>\n",
       "<table border=\"1\" class=\"dataframe\">\n",
       "  <thead>\n",
       "    <tr style=\"text-align: right;\">\n",
       "      <th></th>\n",
       "      <th>precision</th>\n",
       "      <th>recall</th>\n",
       "    </tr>\n",
       "  </thead>\n",
       "  <tbody>\n",
       "    <tr>\n",
       "      <th>in</th>\n",
       "      <td>0.901163</td>\n",
       "      <td>0.933735</td>\n",
       "    </tr>\n",
       "    <tr>\n",
       "      <th>oap</th>\n",
       "      <td>0.906977</td>\n",
       "      <td>0.795918</td>\n",
       "    </tr>\n",
       "    <tr>\n",
       "      <th>obs</th>\n",
       "      <td>0.741935</td>\n",
       "      <td>0.741935</td>\n",
       "    </tr>\n",
       "  </tbody>\n",
       "</table>\n",
       "</div>"
      ],
      "text/plain": [
       "     precision    recall\n",
       "in    0.901163  0.933735\n",
       "oap   0.906977  0.795918\n",
       "obs   0.741935  0.741935"
      ]
     },
     "execution_count": 10,
     "metadata": {},
     "output_type": "execute_result"
    }
   ],
   "source": [
    "df = get_result_df(selected_result, training=False)\n",
    "df = df.drop_duplicates()\n",
    "pd.crosstab(df['label'], df['prediction'])\n",
    "\n",
    "precision = {} # 정밀도\n",
    "recall = {} # 재현율\n",
    "\n",
    "lp = df[['label', 'prediction']]\n",
    "for label in set(df['label']):\n",
    "    true_positives = lp[lambda e: (e.label == label) & (e.prediction == label)]\n",
    "    truths = lp[lambda e: e.label == label]\n",
    "    positives = lp[lambda e: e.prediction == label]\n",
    "    \n",
    "    precision[label] = len(true_positives) / len(positives)\n",
    "    recall[label] = len(true_positives) / len(truths)\n",
    "\n",
    "summary_df = pd.DataFrame(dict(\n",
    "    precision=precision,\n",
    "    recall=recall\n",
    "))\n",
    "summary_df"
   ]
  }
 ],
 "metadata": {
  "kernelspec": {
   "display_name": "Python 3",
   "language": "python",
   "name": "python3"
  },
  "language_info": {
   "codemirror_mode": {
    "name": "ipython",
    "version": 3
   },
   "file_extension": ".py",
   "mimetype": "text/x-python",
   "name": "python",
   "nbconvert_exporter": "python",
   "pygments_lexer": "ipython3",
   "version": "3.6.5"
  }
 },
 "nbformat": 4,
 "nbformat_minor": 2
}
