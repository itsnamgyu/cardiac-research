{
 "cells": [
  {
   "cell_type": "code",
   "execution_count": 2,
   "metadata": {
    "scrolled": false
   },
   "outputs": [
    {
     "name": "stderr",
     "output_type": "stream",
     "text": [
      "Using TensorFlow backend.\n"
     ]
    }
   ],
   "source": [
    "import os\n",
    "import sys\n",
    "import random\n",
    "import json\n",
    "import glob\n",
    "import tempfile\n",
    "sys.path.append('../..')\n",
    "\n",
    "import keras\n",
    "from keras.preprocessing.image import ImageDataGenerator, array_to_img, img_to_array, load_img\n",
    "from keras import optimizers\n",
    "from keras.models import Sequential\n",
    "from keras.layers import Dense, Flatten, Dropout\n",
    "from keras.utils import to_categorical\n",
    "from keras.callbacks import TensorBoard\n",
    "import numpy as np\n",
    "import pandas as pd\n",
    "import tensorflow as tf\n",
    "from keras import backend as K\n",
    "import tqdm\n",
    "\n",
    "import cr_interface as cri\n",
    "import cr_analysis as cra\n",
    "import keras_utils as ku\n",
    "import keras_bottle as kb"
   ]
  },
  {
   "cell_type": "code",
   "execution_count": 3,
   "metadata": {
    "scrolled": false
   },
   "outputs": [
    {
     "name": "stdout",
     "output_type": "stream",
     "text": [
      "loading mobilenet model\n"
     ]
    },
    {
     "data": {
      "text/plain": [
       "'/Users/release/.ho/cardiac-research/slice_range/bottlenecks/MOB_conv_pw_13_relu'"
      ]
     },
     "execution_count": 3,
     "metadata": {},
     "output_type": "execute_result"
    }
   ],
   "source": [
    "app = list(ku.applications.values())[0]\n",
    "kb.get_bottleneck_dir(app.codename, app.get_model())"
   ]
  },
  {
   "cell_type": "code",
   "execution_count": 13,
   "metadata": {},
   "outputs": [
    {
     "data": {
      "text/plain": [
       "array([[[1, 2],\n",
       "        [2, 3]],\n",
       "\n",
       "       [[1, 2],\n",
       "        [3, 4]]])"
      ]
     },
     "execution_count": 13,
     "metadata": {},
     "output_type": "execute_result"
    }
   ],
   "source": [
    "a = np.array([[1, 2], [2, 3]])\n",
    "b = np.array([[1, 2], [3, 4]])\n",
    "np.stack([a, b])"
   ]
  },
  {
   "cell_type": "code",
   "execution_count": 29,
   "metadata": {},
   "outputs": [],
   "source": [
    "def load_bottlenecks(cr_codes, model_codename, model,\n",
    "                     augmented=False, multiplier=5, generate=False):\n",
    "    bottle_dir = kb.get_bottleneck_dir(model_codename, model)\n",
    "    bottle_paths = []\n",
    "    \n",
    "    if augmented:\n",
    "        for i in range(multiplier):\n",
    "            for cr in cr_codes:\n",
    "                bottle_paths.append(os.path.join(\n",
    "                    bottle_dir, '{}_AUG_{}.npy'.format(cr, i)))\n",
    "    else:\n",
    "        for cr in cr_codes:\n",
    "            bottle_paths.append(os.path.join(\n",
    "                bottle_dir,'{}.npy'.format(cr)))\n",
    "    \n",
    "    loaded = 0\n",
    "    for path in bottle_paths:\n",
    "        if os.path.exists(path):\n",
    "            loaded += 1\n",
    "            \n",
    "    bottles = []\n",
    "    if loaded == len(bottle_paths):\n",
    "        print('loading bottlenecks...')\n",
    "        for path in tqdm.tqdm(bottle_paths):\n",
    "            bottles.append(np.load(path))\n",
    "        return np.stack(bottles)\n",
    "    else:\n",
    "        if generate:\n",
    "            raise NotImplementedError('image-wise generation not implemented')\n",
    "        else:\n",
    "            print('only generated {} of {} images'.format(\n",
    "                loaded, len(bottle_paths)))"
   ]
  },
  {
   "cell_type": "code",
   "execution_count": 41,
   "metadata": {
    "scrolled": true
   },
   "outputs": [
    {
     "name": "stderr",
     "output_type": "stream",
     "text": [
      "  0%|          | 6/5057 [00:00<01:25, 58.90it/s]"
     ]
    },
    {
     "name": "stdout",
     "output_type": "stream",
     "text": [
      "loading bottlenecks...\n"
     ]
    },
    {
     "name": "stderr",
     "output_type": "stream",
     "text": [
      "100%|██████████| 5057/5057 [00:16<00:00, 313.67it/s]\n"
     ]
    }
   ],
   "source": [
    "app = list(ku.applications.values())[0]\n",
    "cr_codes = cri.extract_cr_codes(glob.glob(os.path.join(cri.DATABASE_DIR, '*.jpg')))\n",
    "ho = load_bottlenecks(cr_codes, app.codename, app.get_model())\n",
    "if ho is not None:\n",
    "    ho.shape"
   ]
  }
 ],
 "metadata": {
  "kernelspec": {
   "display_name": "Python 3",
   "language": "python",
   "name": "python3"
  },
  "language_info": {
   "codemirror_mode": {
    "name": "ipython",
    "version": 3
   },
   "file_extension": ".py",
   "mimetype": "text/x-python",
   "name": "python",
   "nbconvert_exporter": "python",
   "pygments_lexer": "ipython3",
   "version": "3.6.4"
  }
 },
 "nbformat": 4,
 "nbformat_minor": 2
}
