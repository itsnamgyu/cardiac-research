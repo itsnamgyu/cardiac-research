{
 "cells": [
  {
   "cell_type": "code",
   "execution_count": 23,
   "metadata": {},
   "outputs": [],
   "source": [
    "import sys\n",
    "sys.path.append('../..')\n",
    "\n",
    "import os\n",
    "import json\n",
    "\n",
    "import keras\n",
    "from keras import optimizers\n",
    "from keras.models import Sequential\n",
    "from keras.layers import Dense, Flatten, Dropout\n",
    "from sklearn.preprocessing import LabelEncoder, OneHotEncoder\n",
    "import numpy as np\n",
    "import pandas as pd\n",
    "from tqdm import tqdm\n",
    "\n",
    "import cr_interface as cri\n",
    "import keras_utils as ku\n",
    "import keras_bottle as kb"
   ]
  },
  {
   "cell_type": "code",
   "execution_count": 2,
   "metadata": {},
   "outputs": [],
   "source": [
    "collection = cri.CrCollection.load().labeled().tri_label()"
   ]
  },
  {
   "cell_type": "code",
   "execution_count": 3,
   "metadata": {},
   "outputs": [],
   "source": [
    "train = collection.filter_by(dataset_index=0)\n",
    "test = collection.filter_by(dataset_index=1)"
   ]
  },
  {
   "cell_type": "markdown",
   "metadata": {},
   "source": [
    "# Training Data Statistics"
   ]
  },
  {
   "cell_type": "code",
   "execution_count": 8,
   "metadata": {
    "scrolled": true
   },
   "outputs": [
    {
     "name": "stdout",
     "output_type": "stream",
     "text": [
      "obs: 328\n",
      "in: 1808\n",
      "oap: 386\n"
     ]
    }
   ],
   "source": [
    "labels = ['obs', 'in', 'oap']\n",
    "for label in labels:\n",
    "    df = train.filter_by(label=label).df\n",
    "    print('{}: {}'.format(label, len(df)))"
   ]
  },
  {
   "cell_type": "markdown",
   "metadata": {},
   "source": [
    "## Load K-Fold Bottlenecks & Labels"
   ]
  },
  {
   "cell_type": "code",
   "execution_count": 9,
   "metadata": {
    "scrolled": true
   },
   "outputs": [
    {
     "name": "stdout",
     "output_type": "stream",
     "text": [
      "502\n",
      "482\n",
      "514\n",
      "510\n",
      "514\n",
      "Loading split 1 of 5...\n",
      "Loading split 2 of 5...\n",
      "Loading split 3 of 5...\n",
      "Loading split 4 of 5...\n",
      "Loading split 5 of 5...\n"
     ]
    }
   ],
   "source": [
    "splits = train.split_by(['dataset_index', 'pid'], [0.2] * 5)\n",
    "\n",
    "for split in splits:\n",
    "    print(len(split.df))\n",
    "    \n",
    "split_labels = []\n",
    "split_aug_labels = []\n",
    "split_bottles = []\n",
    "split_aug_bottles = []\n",
    "\n",
    "OUT_MULTIPLIER = 6\n",
    "AUG_MULTIPLIER = 1\n",
    "\n",
    "for i, split in enumerate(splits):\n",
    "    print('Loading split {} of {}...'.format(i + 1, len(splits)))\n",
    "    cr_codes = split.get_cr_codes()\n",
    "    labels = split.get_labels()\n",
    "    bottles = kb.load_bottlenecks(\n",
    "        cr_codes, app.codename, app.get_model(),\n",
    "        augmented=False, multiplier=1, verbose=0)\n",
    "    split_bottles.append(bottles)\n",
    "    split_labels.append(labels)\n",
    "    \n",
    "    labels = []\n",
    "    cr_codes = split.filter_by(label='in').get_cr_codes()\n",
    "    labels += split.filter_by(label='in').get_labels()\n",
    "    in_bottles = kb.load_bottlenecks(\n",
    "        cr_codes, app.codename, app.get_model(),\n",
    "        augmented=True, multiplier=AUG_MULTIPLIER, verbose=0)\n",
    "    \n",
    "    cr_codes = split.filter_by(label=['oap', 'obs']).get_cr_codes()\n",
    "    labels += split.filter_by(label=['oap', 'obs']).get_labels()* OUT_MULTIPLIER\n",
    "    out_bottles = kb.load_bottlenecks(\n",
    "        cr_codes, app.codename, app.get_model(),\n",
    "        augmented=True, multiplier=AUG_MULTIPLIER * OUT_MULTIPLIER,\n",
    "        verbose=0)\n",
    "    \n",
    "    bottles = np.concatenate((in_bottles, out_bottles))\n",
    "    \n",
    "    split_aug_bottles.append(bottles)\n",
    "    split_aug_labels.append(labels)"
   ]
  },
  {
   "cell_type": "markdown",
   "metadata": {},
   "source": [
    "## Form K-Fold Data"
   ]
  },
  {
   "cell_type": "code",
   "execution_count": 10,
   "metadata": {},
   "outputs": [],
   "source": [
    "SPLITS = 5\n",
    "\n",
    "labelize = LabelEncoder().fit_transform\n",
    "onehot = OneHotEncoder(sparse=False).fit_transform\n",
    "encode = lambda l: onehot(labelize(l).reshape(-1, 1))\n",
    "\n",
    "i = 0\n",
    "validation_labels = encode(split_labels[i])\n",
    "validation_bottles = split_bottles[i]\n",
    "train_labels = []\n",
    "train_bottles = []\n",
    "for j in list(range(0, i)) + list(range(i + 1, SPLITS)):\n",
    "    train_labels += split_aug_labels[j]\n",
    "    train_bottles.append(split_aug_bottles[j])\n",
    "train_labels = encode(train_labels)\n",
    "train_bottles = np.concatenate(train_bottles)"
   ]
  },
  {
   "cell_type": "code",
   "execution_count": 11,
   "metadata": {},
   "outputs": [],
   "source": [
    "def compile_model(model, lr=1.0e-4):\n",
    "    sgd = optimizers.SGD(lr=lr, decay=1e-6, momentum=0.9, nesterov=True)\n",
    "    model.compile(\n",
    "        loss='categorical_crossentropy',\n",
    "        optimizer=sgd,\n",
    "        #optimizer='rmsprop',\n",
    "        metrics=['accuracy'])\n",
    "    \n",
    "def load_top_model(app, compiled=True, lr=1.0e-4):\n",
    "    model = Sequential()\n",
    "    model.add(Flatten(input_shape=app.get_model().output_shape[1:]))\n",
    "    model.add(Dense(256, activation='relu'))\n",
    "    model.add(Dropout(0.5))\n",
    "    model.add(Dense(3, activation='softmax'))\n",
    "\n",
    "    if compiled:\n",
    "        compile_model(model, lr)\n",
    "    \n",
    "    return model"
   ]
  },
  {
   "cell_type": "code",
   "execution_count": 16,
   "metadata": {
    "scrolled": false
   },
   "outputs": [],
   "source": [
    "app = ku.applications['mobilenet']\n",
    "lr_factor = 3\n",
    "lr = 0.1 ** 3\n",
    "epochs = 10\n",
    "top_model = load_top_model(app, lr=lr)"
   ]
  },
  {
   "cell_type": "code",
   "execution_count": 17,
   "metadata": {},
   "outputs": [
    {
     "name": "stdout",
     "output_type": "stream",
     "text": [
      "Train on 4840 samples, validate on 502 samples\n",
      "Epoch 1/1\n",
      "4840/4840 [==============================] - 19s 4ms/step - loss: 0.3867 - acc: 0.9041 - val_loss: 0.6617 - val_acc: 0.7749\n"
     ]
    }
   ],
   "source": [
    "res = top_model.fit(train_bottles, train_labels,\n",
    "                    validation_data=(validation_bottles, validation_labels),\n",
    "                    shuffle=True, epochs=1)"
   ]
  },
  {
   "cell_type": "code",
   "execution_count": 18,
   "metadata": {},
   "outputs": [
    {
     "data": {
      "text/plain": [
       "0.7749003988813119"
      ]
     },
     "execution_count": 18,
     "metadata": {},
     "output_type": "execute_result"
    }
   ],
   "source": [
    "max(res.history['val_acc'])"
   ]
  },
  {
   "cell_type": "markdown",
   "metadata": {},
   "source": [
    "## Save Learning Curve"
   ]
  },
  {
   "cell_type": "code",
   "execution_count": 73,
   "metadata": {},
   "outputs": [],
   "source": [
    "HIST_DIR = 'history'\n",
    "name = '{}_LR{}_E{:03d}'.format(app.codename, lr_factor, epochs)\n",
    "j = 0\n",
    "os.makedirs(HIST_DIR, exist_ok=True)\n",
    "hist_path = os.path.join(HIST_DIR,'{}_S{:02d}.json'.format(name, j))\n",
    "with open(hist_path, 'w') as f:\n",
    "    json.dump(res.history, f)"
   ]
  },
  {
   "cell_type": "markdown",
   "metadata": {},
   "source": [
    "# Modularized!"
   ]
  },
  {
   "cell_type": "code",
   "execution_count": 36,
   "metadata": {},
   "outputs": [],
   "source": [
    "def compile_model(model, lr=1.0e-4):\n",
    "    sgd = optimizers.SGD(lr=lr, decay=1e-6, momentum=0.9, nesterov=True)\n",
    "    model.compile(\n",
    "        loss='categorical_crossentropy',\n",
    "        optimizer=sgd,\n",
    "        #optimizer='rmsprop',\n",
    "        metrics=['accuracy'])\n",
    "    \n",
    "def load_top_model(app, compiled=True, lr=1.0e-4):\n",
    "    model = Sequential()\n",
    "    model.add(Flatten(input_shape=app.get_model().output_shape[1:]))\n",
    "    model.add(Dense(256, activation='relu'))\n",
    "    model.add(Dropout(0.5))\n",
    "    model.add(Dense(3, activation='softmax'))\n",
    "\n",
    "    if compiled:\n",
    "        compile_model(model, lr)\n",
    "    \n",
    "    return model\n",
    "\n",
    "def save_history(res: keras.callbacks.History, name):\n",
    "    HIST_DIR = 'history'\n",
    "    os.makedirs(HIST_DIR, exist_ok=True)\n",
    "    hist_path = os.path.join(HIST_DIR,'{}.json'.format(name))\n",
    "    with open(hist_path, 'w') as f:\n",
    "        json.dump(res.history, f)"
   ]
  },
  {
   "cell_type": "code",
   "execution_count": 39,
   "metadata": {},
   "outputs": [],
   "source": [
    "def train_top_models(train_collection: cri.CrCollection, app):\n",
    "    '''\n",
    "    Train top models using K-fold & learning rate search\n",
    "    '''\n",
    "    SPLITS = 5\n",
    "    OUT_MULTIPLIER = 6\n",
    "    AUG_MULTIPLIER = 1\n",
    "    LR_RANGE = [3, 4, 5, 6]\n",
    "    EPOCHS = [10, 10, 100, 100]\n",
    "    EPOCHS = [1, 1, 1, 1]\n",
    "    \n",
    "    splits = train_collection.split_by(['dataset_index', 'pid'], [0.2] * 5)\n",
    "\n",
    "    split_labels = []\n",
    "    split_aug_labels = []\n",
    "    split_bottles = []\n",
    "    split_aug_bottles = []\n",
    "\n",
    "    print('loading bottlenecks... ', end='')\n",
    "    for i, split in enumerate(splits):\n",
    "        #print('Loading split {} of {}...'.format(i + 1, len(splits)))\n",
    "        cr_codes = split.get_cr_codes()\n",
    "        labels = split.get_labels()\n",
    "        bottles = kb.load_bottlenecks(\n",
    "            cr_codes, app.codename, app.get_model(),\n",
    "            augmented=False, multiplier=1, verbose=0)\n",
    "        split_bottles.append(bottles)\n",
    "        split_labels.append(labels)\n",
    "\n",
    "        labels = []\n",
    "        cr_codes = split.filter_by(label='in').get_cr_codes()\n",
    "        labels += split.filter_by(label='in').get_labels()\n",
    "        in_bottles = kb.load_bottlenecks(\n",
    "            cr_codes, app.codename, app.get_model(),\n",
    "            augmented=True, multiplier=AUG_MULTIPLIER, verbose=0)\n",
    "\n",
    "        cr_codes = split.filter_by(label=['oap', 'obs']).get_cr_codes()\n",
    "        labels += split.filter_by(label=['oap', 'obs']).get_labels()* OUT_MULTIPLIER\n",
    "        out_bottles = kb.load_bottlenecks(\n",
    "            cr_codes, app.codename, app.get_model(),\n",
    "            augmented=True, multiplier=AUG_MULTIPLIER * OUT_MULTIPLIER,\n",
    "            verbose=0)\n",
    "\n",
    "        bottles = np.concatenate((in_bottles, out_bottles))\n",
    "\n",
    "        split_aug_bottles.append(bottles)\n",
    "        split_aug_labels.append(labels)\n",
    "    print('done')\n",
    "        \n",
    "    labelize = LabelEncoder().fit_transform\n",
    "    onehot = OneHotEncoder(sparse=False).fit_transform\n",
    "    encode = lambda l: onehot(labelize(l).reshape(-1, 1))\n",
    "    \n",
    "    results = {}\n",
    "    \n",
    "    print('training models by split + learning rate')\n",
    "    with tqdm(total=SPLITS * len(LR_RANGE)) as bar:\n",
    "        for i in range(SPLITS):\n",
    "            validation_labels = encode(split_labels[i])\n",
    "            validation_bottles = split_bottles[i]\n",
    "            train_labels = []\n",
    "            train_bottles = []\n",
    "            for j in list(range(0, i)) + list(range(i + 1, SPLITS)):\n",
    "                train_labels += split_aug_labels[j]\n",
    "                train_bottles.append(split_aug_bottles[j])\n",
    "            train_labels = encode(train_labels)\n",
    "            train_bottles = np.concatenate(train_bottles)\n",
    "\n",
    "            for lr_factor, epochs in zip(LR_RANGE, EPOCHS):\n",
    "                lr = 0.1 ** lr_factor\n",
    "                top_model = load_top_model(app, lr=lr)\n",
    "\n",
    "                res = top_model.fit(train_bottles, train_labels,\n",
    "                                    validation_data=(validation_bottles, validation_labels),\n",
    "                                    verbose=1, shuffle=True, epochs=epochs)\n",
    "\n",
    "                name = '{}_LR{}_E{:03d}_S{:02d}'.format(\n",
    "                    app.codename, lr_factor, epochs, i)\n",
    "                save_history(res, name)\n",
    "                \n",
    "                MODEL_DIR = 'model'\n",
    "                os.makedirs(MODEL_DIR, exist_ok=True)\n",
    "                top_model.save(os.path.join(MODEL_DIR, '{}.hdf5'.format(name)))\n",
    "                \n",
    "                results[name] = res\n",
    "\n",
    "                bar.update(1)\n",
    "                \n",
    "    for name, res in results.items():\n",
    "        print(name, max(res.history['val_acc']))\n",
    "    \n",
    "    return results"
   ]
  },
  {
   "cell_type": "code",
   "execution_count": 40,
   "metadata": {
    "scrolled": true
   },
   "outputs": [
    {
     "name": "stdout",
     "output_type": "stream",
     "text": [
      "-----------------------------------mobilenet------------------------------------\n",
      "loading bottlenecks... "
     ]
    },
    {
     "name": "stderr",
     "output_type": "stream",
     "text": [
      "\r",
      "  0%|          | 0/20 [00:00<?, ?it/s]"
     ]
    },
    {
     "name": "stdout",
     "output_type": "stream",
     "text": [
      "done\n",
      "training models by split + learning rate\n",
      "Train on 4824 samples, validate on 498 samples\n",
      "Epoch 1/1\n",
      "4824/4824 [==============================] - 20s 4ms/step - loss: 0.7946 - acc: 0.8816 - val_loss: 0.4961 - val_acc: 0.8394\n"
     ]
    },
    {
     "name": "stderr",
     "output_type": "stream",
     "text": [
      "\r",
      "  5%|▌         | 1/20 [00:28<08:53, 28.10s/it]"
     ]
    },
    {
     "name": "stdout",
     "output_type": "stream",
     "text": [
      "Train on 4824 samples, validate on 498 samples\n",
      "Epoch 1/1\n",
      "4824/4824 [==============================] - 19s 4ms/step - loss: 0.3963 - acc: 0.8696 - val_loss: 0.6680 - val_acc: 0.8012\n"
     ]
    },
    {
     "name": "stderr",
     "output_type": "stream",
     "text": [
      "\r",
      " 10%|█         | 2/20 [00:48<07:43, 25.74s/it]"
     ]
    },
    {
     "name": "stdout",
     "output_type": "stream",
     "text": [
      "Train on 4824 samples, validate on 498 samples\n",
      "Epoch 1/1\n",
      "4824/4824 [==============================] - 19s 4ms/step - loss: 0.9631 - acc: 0.6905 - val_loss: 0.6363 - val_acc: 0.7570\n"
     ]
    },
    {
     "name": "stderr",
     "output_type": "stream",
     "text": [
      "\r",
      " 15%|█▌        | 3/20 [01:08<06:50, 24.13s/it]"
     ]
    },
    {
     "name": "stdout",
     "output_type": "stream",
     "text": [
      "Train on 4824 samples, validate on 498 samples\n",
      "Epoch 1/1\n",
      "4824/4824 [==============================] - 19s 4ms/step - loss: 1.7764 - acc: 0.4718 - val_loss: 1.2316 - val_acc: 0.5321\n"
     ]
    },
    {
     "name": "stderr",
     "output_type": "stream",
     "text": [
      "\r",
      " 20%|██        | 4/20 [01:29<06:12, 23.26s/it]"
     ]
    },
    {
     "name": "stdout",
     "output_type": "stream",
     "text": [
      "Train on 4805 samples, validate on 532 samples\n",
      "Epoch 1/1\n",
      "4805/4805 [==============================] - 20s 4ms/step - loss: 0.4145 - acc: 0.9057 - val_loss: 0.5661 - val_acc: 0.8139\n"
     ]
    },
    {
     "name": "stderr",
     "output_type": "stream",
     "text": [
      "\r",
      " 25%|██▌       | 5/20 [01:54<05:55, 23.73s/it]"
     ]
    },
    {
     "name": "stdout",
     "output_type": "stream",
     "text": [
      "Train on 4805 samples, validate on 532 samples\n",
      "Epoch 1/1\n",
      "4805/4805 [==============================] - 19s 4ms/step - loss: 0.3735 - acc: 0.8787 - val_loss: 0.7555 - val_acc: 0.7406\n"
     ]
    },
    {
     "name": "stderr",
     "output_type": "stream",
     "text": [
      "\r",
      " 30%|███       | 6/20 [02:15<05:19, 22.85s/it]"
     ]
    },
    {
     "name": "stdout",
     "output_type": "stream",
     "text": [
      "Train on 4805 samples, validate on 532 samples\n",
      "Epoch 1/1\n",
      "4805/4805 [==============================] - 19s 4ms/step - loss: 0.9939 - acc: 0.6749 - val_loss: 0.7089 - val_acc: 0.7387\n"
     ]
    },
    {
     "name": "stderr",
     "output_type": "stream",
     "text": [
      "\r",
      " 35%|███▌      | 7/20 [02:36<04:51, 22.42s/it]"
     ]
    },
    {
     "name": "stdout",
     "output_type": "stream",
     "text": [
      "Train on 4805 samples, validate on 532 samples\n",
      "Epoch 1/1\n",
      "4805/4805 [==============================] - 19s 4ms/step - loss: 2.0930 - acc: 0.4241 - val_loss: 1.2443 - val_acc: 0.4981\n"
     ]
    },
    {
     "name": "stderr",
     "output_type": "stream",
     "text": [
      "\r",
      " 40%|████      | 8/20 [02:57<04:23, 21.94s/it]"
     ]
    },
    {
     "name": "stdout",
     "output_type": "stream",
     "text": [
      "Train on 4910 samples, validate on 492 samples\n",
      "Epoch 1/1\n",
      "4910/4910 [==============================] - 20s 4ms/step - loss: 4.8219 - acc: 0.6878 - val_loss: 11.5972 - val_acc: 0.2805\n"
     ]
    },
    {
     "name": "stderr",
     "output_type": "stream",
     "text": [
      "\r",
      " 45%|████▌     | 9/20 [03:20<04:03, 22.12s/it]"
     ]
    },
    {
     "name": "stdout",
     "output_type": "stream",
     "text": [
      "Train on 4910 samples, validate on 492 samples\n",
      "Epoch 1/1\n",
      "4910/4910 [==============================] - 20s 4ms/step - loss: 0.3811 - acc: 0.8715 - val_loss: 0.8512 - val_acc: 0.7297\n"
     ]
    },
    {
     "name": "stderr",
     "output_type": "stream",
     "text": [
      "\r",
      " 50%|█████     | 10/20 [03:42<03:40, 22.06s/it]"
     ]
    },
    {
     "name": "stdout",
     "output_type": "stream",
     "text": [
      "Train on 4910 samples, validate on 492 samples\n",
      "Epoch 1/1\n",
      "4910/4910 [==============================] - 19s 4ms/step - loss: 0.8419 - acc: 0.7124 - val_loss: 1.0909 - val_acc: 0.6280\n"
     ]
    },
    {
     "name": "stderr",
     "output_type": "stream",
     "text": [
      "\r",
      " 55%|█████▌    | 11/20 [04:03<03:16, 21.82s/it]"
     ]
    },
    {
     "name": "stdout",
     "output_type": "stream",
     "text": [
      "Train on 4910 samples, validate on 492 samples\n",
      "Epoch 1/1\n",
      "4910/4910 [==============================] - 20s 4ms/step - loss: 2.0642 - acc: 0.4358 - val_loss: 2.0360 - val_acc: 0.3557\n"
     ]
    },
    {
     "name": "stderr",
     "output_type": "stream",
     "text": [
      "\r",
      " 60%|██████    | 12/20 [04:25<02:54, 21.80s/it]"
     ]
    },
    {
     "name": "stdout",
     "output_type": "stream",
     "text": [
      "Train on 4943 samples, validate on 484 samples\n",
      "Epoch 1/1\n",
      "4943/4943 [==============================] - 20s 4ms/step - loss: 0.5200 - acc: 0.8926 - val_loss: 0.6849 - val_acc: 0.7665\n"
     ]
    },
    {
     "name": "stderr",
     "output_type": "stream",
     "text": [
      "\r",
      " 65%|██████▌   | 13/20 [04:48<02:35, 22.22s/it]"
     ]
    },
    {
     "name": "stdout",
     "output_type": "stream",
     "text": [
      "Train on 4943 samples, validate on 484 samples\n",
      "Epoch 1/1\n",
      "4943/4943 [==============================] - 20s 4ms/step - loss: 0.3662 - acc: 0.8796 - val_loss: 0.5976 - val_acc: 0.7893\n"
     ]
    },
    {
     "name": "stderr",
     "output_type": "stream",
     "text": [
      "\r",
      " 70%|███████   | 14/20 [05:10<02:13, 22.25s/it]"
     ]
    },
    {
     "name": "stdout",
     "output_type": "stream",
     "text": [
      "Train on 4943 samples, validate on 484 samples\n",
      "Epoch 1/1\n",
      "4943/4943 [==============================] - 20s 4ms/step - loss: 0.8951 - acc: 0.7158 - val_loss: 1.0491 - val_acc: 0.6426\n"
     ]
    },
    {
     "name": "stderr",
     "output_type": "stream",
     "text": [
      "\r",
      " 75%|███████▌  | 15/20 [05:32<01:50, 22.17s/it]"
     ]
    },
    {
     "name": "stdout",
     "output_type": "stream",
     "text": [
      "Train on 4943 samples, validate on 484 samples\n",
      "Epoch 1/1\n",
      "4943/4943 [==============================] - 20s 4ms/step - loss: 2.2346 - acc: 0.3884 - val_loss: 1.4872 - val_acc: 0.4050\n"
     ]
    },
    {
     "name": "stderr",
     "output_type": "stream",
     "text": [
      "\r",
      " 80%|████████  | 16/20 [05:55<01:29, 22.27s/it]"
     ]
    },
    {
     "name": "stdout",
     "output_type": "stream",
     "text": [
      "Train on 4886 samples, validate on 516 samples\n",
      "Epoch 1/1\n",
      "4886/4886 [==============================] - 21s 4ms/step - loss: 0.6649 - acc: 0.8940 - val_loss: 0.5926 - val_acc: 0.8256\n"
     ]
    },
    {
     "name": "stderr",
     "output_type": "stream",
     "text": [
      "\r",
      " 85%|████████▌ | 17/20 [06:19<01:08, 22.76s/it]"
     ]
    },
    {
     "name": "stdout",
     "output_type": "stream",
     "text": [
      "Train on 4886 samples, validate on 516 samples\n",
      "Epoch 1/1\n",
      "4886/4886 [==============================] - 20s 4ms/step - loss: 0.3771 - acc: 0.8819 - val_loss: 0.8420 - val_acc: 0.7519\n"
     ]
    },
    {
     "name": "stderr",
     "output_type": "stream",
     "text": [
      "\r",
      " 90%|█████████ | 18/20 [06:42<00:45, 22.79s/it]"
     ]
    },
    {
     "name": "stdout",
     "output_type": "stream",
     "text": [
      "Train on 4886 samples, validate on 516 samples\n",
      "Epoch 1/1\n",
      "4886/4886 [==============================] - 20s 4ms/step - loss: 0.9563 - acc: 0.6998 - val_loss: 1.1164 - val_acc: 0.6008\n"
     ]
    },
    {
     "name": "stderr",
     "output_type": "stream",
     "text": [
      "\r",
      " 95%|█████████▌| 19/20 [07:05<00:22, 22.84s/it]"
     ]
    },
    {
     "name": "stdout",
     "output_type": "stream",
     "text": [
      "Train on 4886 samples, validate on 516 samples\n",
      "Epoch 1/1\n",
      "4886/4886 [==============================] - 20s 4ms/step - loss: 2.2521 - acc: 0.4355 - val_loss: 1.7707 - val_acc: 0.3779\n"
     ]
    },
    {
     "name": "stderr",
     "output_type": "stream",
     "text": [
      "100%|██████████| 20/20 [07:27<00:00, 22.76s/it]\n"
     ]
    },
    {
     "name": "stdout",
     "output_type": "stream",
     "text": [
      "MOB_LR3_E001_S00 0.8393574287613712\n",
      "MOB_LR4_E001_S00 0.8012048187983563\n",
      "MOB_LR5_E001_S00 0.7570281129285513\n",
      "MOB_LR6_E001_S00 0.5321285133380966\n",
      "MOB_LR3_E001_S01 0.8139097735397798\n",
      "MOB_LR4_E001_S01 0.740601502863088\n",
      "MOB_LR5_E001_S01 0.7387218040631229\n",
      "MOB_LR6_E001_S01 0.4981203005278021\n",
      "MOB_LR3_E001_S02 0.2804878048780488\n",
      "MOB_LR4_E001_S02 0.7296747962633768\n",
      "MOB_LR5_E001_S02 0.6280487809723955\n",
      "MOB_LR6_E001_S02 0.3556910570317168\n",
      "MOB_LR3_E001_S03 0.7665289256198347\n",
      "MOB_LR4_E001_S03 0.7892561983471075\n",
      "MOB_LR5_E001_S03 0.6425619834710744\n",
      "MOB_LR6_E001_S03 0.4049586776859504\n",
      "MOB_LR3_E001_S04 0.8255813953488372\n",
      "MOB_LR4_E001_S04 0.751937984496124\n",
      "MOB_LR5_E001_S04 0.6007751937984496\n",
      "MOB_LR6_E001_S04 0.37790697674418605\n",
      "----------------------------------mobilenetv2-----------------------------------\n",
      "loading bottlenecks... loading mobilenetv2 model\n"
     ]
    },
    {
     "ename": "KeyboardInterrupt",
     "evalue": "",
     "output_type": "error",
     "traceback": [
      "\u001b[0;31m---------------------------------------------------------------------------\u001b[0m",
      "\u001b[0;31mKeyboardInterrupt\u001b[0m                         Traceback (most recent call last)",
      "\u001b[0;32m<ipython-input-40-ffba6d67f9fe>\u001b[0m in \u001b[0;36m<module>\u001b[0;34m()\u001b[0m\n\u001b[1;32m      7\u001b[0m \u001b[0;32mfor\u001b[0m \u001b[0mkey\u001b[0m\u001b[0;34m,\u001b[0m \u001b[0mapp\u001b[0m \u001b[0;32min\u001b[0m \u001b[0mku\u001b[0m\u001b[0;34m.\u001b[0m\u001b[0mapplications\u001b[0m\u001b[0;34m.\u001b[0m\u001b[0mitems\u001b[0m\u001b[0;34m(\u001b[0m\u001b[0;34m)\u001b[0m\u001b[0;34m:\u001b[0m\u001b[0;34m\u001b[0m\u001b[0m\n\u001b[1;32m      8\u001b[0m     \u001b[0mprint\u001b[0m\u001b[0;34m(\u001b[0m\u001b[0mkey\u001b[0m\u001b[0;34m.\u001b[0m\u001b[0mcenter\u001b[0m\u001b[0;34m(\u001b[0m\u001b[0;36m80\u001b[0m\u001b[0;34m,\u001b[0m \u001b[0;34m'-'\u001b[0m\u001b[0;34m)\u001b[0m\u001b[0;34m)\u001b[0m\u001b[0;34m\u001b[0m\u001b[0m\n\u001b[0;32m----> 9\u001b[0;31m     \u001b[0mresults\u001b[0m \u001b[0;34m=\u001b[0m \u001b[0mtrain_top_models\u001b[0m\u001b[0;34m(\u001b[0m\u001b[0mtrain\u001b[0m\u001b[0;34m,\u001b[0m \u001b[0mapp\u001b[0m\u001b[0;34m)\u001b[0m\u001b[0;34m\u001b[0m\u001b[0m\n\u001b[0m\u001b[1;32m     10\u001b[0m     \u001b[0mall_results\u001b[0m\u001b[0;34m.\u001b[0m\u001b[0mappend\u001b[0m\u001b[0;34m(\u001b[0m\u001b[0mresults\u001b[0m\u001b[0;34m)\u001b[0m\u001b[0;34m\u001b[0m\u001b[0m\n\u001b[1;32m     11\u001b[0m \u001b[0;34m\u001b[0m\u001b[0m\n",
      "\u001b[0;32m<ipython-input-39-901449482965>\u001b[0m in \u001b[0;36mtrain_top_models\u001b[0;34m(train_collection, app)\u001b[0m\n\u001b[1;32m     33\u001b[0m         in_bottles = kb.load_bottlenecks(\n\u001b[1;32m     34\u001b[0m             \u001b[0mcr_codes\u001b[0m\u001b[0;34m,\u001b[0m \u001b[0mapp\u001b[0m\u001b[0;34m.\u001b[0m\u001b[0mcodename\u001b[0m\u001b[0;34m,\u001b[0m \u001b[0mapp\u001b[0m\u001b[0;34m.\u001b[0m\u001b[0mget_model\u001b[0m\u001b[0;34m(\u001b[0m\u001b[0;34m)\u001b[0m\u001b[0;34m,\u001b[0m\u001b[0;34m\u001b[0m\u001b[0m\n\u001b[0;32m---> 35\u001b[0;31m             augmented=True, multiplier=AUG_MULTIPLIER, verbose=0)\n\u001b[0m\u001b[1;32m     36\u001b[0m \u001b[0;34m\u001b[0m\u001b[0m\n\u001b[1;32m     37\u001b[0m         \u001b[0mcr_codes\u001b[0m \u001b[0;34m=\u001b[0m \u001b[0msplit\u001b[0m\u001b[0;34m.\u001b[0m\u001b[0mfilter_by\u001b[0m\u001b[0;34m(\u001b[0m\u001b[0mlabel\u001b[0m\u001b[0;34m=\u001b[0m\u001b[0;34m[\u001b[0m\u001b[0;34m'oap'\u001b[0m\u001b[0;34m,\u001b[0m \u001b[0;34m'obs'\u001b[0m\u001b[0;34m]\u001b[0m\u001b[0;34m)\u001b[0m\u001b[0;34m.\u001b[0m\u001b[0mget_cr_codes\u001b[0m\u001b[0;34m(\u001b[0m\u001b[0;34m)\u001b[0m\u001b[0;34m\u001b[0m\u001b[0m\n",
      "\u001b[0;32m~/.ho/cardiac-research/slice_range/keras_bottle.py\u001b[0m in \u001b[0;36mload_bottlenecks\u001b[0;34m(cr_codes, model_codename, model, augmented, multiplier, generate, verbose)\u001b[0m\n\u001b[1;32m     57\u001b[0m         \u001b[0;32melse\u001b[0m\u001b[0;34m:\u001b[0m\u001b[0;34m\u001b[0m\u001b[0m\n\u001b[1;32m     58\u001b[0m             \u001b[0;32mfor\u001b[0m \u001b[0mpath\u001b[0m \u001b[0;32min\u001b[0m \u001b[0mbottle_paths\u001b[0m\u001b[0;34m:\u001b[0m\u001b[0;34m\u001b[0m\u001b[0m\n\u001b[0;32m---> 59\u001b[0;31m                 \u001b[0mbottles\u001b[0m\u001b[0;34m.\u001b[0m\u001b[0mappend\u001b[0m\u001b[0;34m(\u001b[0m\u001b[0mnp\u001b[0m\u001b[0;34m.\u001b[0m\u001b[0mload\u001b[0m\u001b[0;34m(\u001b[0m\u001b[0mpath\u001b[0m\u001b[0;34m)\u001b[0m\u001b[0;34m)\u001b[0m\u001b[0;34m\u001b[0m\u001b[0m\n\u001b[0m\u001b[1;32m     60\u001b[0m         \u001b[0;32mreturn\u001b[0m \u001b[0mnp\u001b[0m\u001b[0;34m.\u001b[0m\u001b[0mstack\u001b[0m\u001b[0;34m(\u001b[0m\u001b[0mbottles\u001b[0m\u001b[0;34m)\u001b[0m\u001b[0;34m\u001b[0m\u001b[0m\n\u001b[1;32m     61\u001b[0m     \u001b[0;32melse\u001b[0m\u001b[0;34m:\u001b[0m\u001b[0;34m\u001b[0m\u001b[0m\n",
      "\u001b[0;32m~/.ho/cardiac-research/slice_range/venv/lib/python3.6/site-packages/numpy/lib/npyio.py\u001b[0m in \u001b[0;36mload\u001b[0;34m(file, mmap_mode, allow_pickle, fix_imports, encoding)\u001b[0m\n\u001b[1;32m    414\u001b[0m         \u001b[0m_ZIP_PREFIX\u001b[0m \u001b[0;34m=\u001b[0m \u001b[0;34mb'PK\\x03\\x04'\u001b[0m\u001b[0;34m\u001b[0m\u001b[0m\n\u001b[1;32m    415\u001b[0m         \u001b[0mN\u001b[0m \u001b[0;34m=\u001b[0m \u001b[0mlen\u001b[0m\u001b[0;34m(\u001b[0m\u001b[0mformat\u001b[0m\u001b[0;34m.\u001b[0m\u001b[0mMAGIC_PREFIX\u001b[0m\u001b[0;34m)\u001b[0m\u001b[0;34m\u001b[0m\u001b[0m\n\u001b[0;32m--> 416\u001b[0;31m         \u001b[0mmagic\u001b[0m \u001b[0;34m=\u001b[0m \u001b[0mfid\u001b[0m\u001b[0;34m.\u001b[0m\u001b[0mread\u001b[0m\u001b[0;34m(\u001b[0m\u001b[0mN\u001b[0m\u001b[0;34m)\u001b[0m\u001b[0;34m\u001b[0m\u001b[0m\n\u001b[0m\u001b[1;32m    417\u001b[0m         \u001b[0;31m# If the file size is less than N, we need to make sure not\u001b[0m\u001b[0;34m\u001b[0m\u001b[0;34m\u001b[0m\u001b[0m\n\u001b[1;32m    418\u001b[0m         \u001b[0;31m# to seek past the beginning of the file\u001b[0m\u001b[0;34m\u001b[0m\u001b[0;34m\u001b[0m\u001b[0m\n",
      "\u001b[0;31mKeyboardInterrupt\u001b[0m: "
     ]
    }
   ],
   "source": [
    "collection = cri.CrCollection.load().labeled().tri_label()\n",
    "train = collection.filter_by(dataset_index=0)\n",
    "test = collection.filter_by(dataset_index=1)\n",
    "\n",
    "all_results = []\n",
    "\n",
    "for key, app in ku.applications.items():\n",
    "    print(key.center(80, '-'))\n",
    "    results = train_top_models(train, app)\n",
    "    all_results.append(results)\n",
    "    \n",
    "with open('all_results.json') as f:\n",
    "    json.dump(all_results, f)"
   ]
  }
 ],
 "metadata": {
  "kernelspec": {
   "display_name": "Python 3",
   "language": "python",
   "name": "python3"
  },
  "language_info": {
   "codemirror_mode": {
    "name": "ipython",
    "version": 3
   },
   "file_extension": ".py",
   "mimetype": "text/x-python",
   "name": "python",
   "nbconvert_exporter": "python",
   "pygments_lexer": "ipython3",
   "version": "3.6.4"
  }
 },
 "nbformat": 4,
 "nbformat_minor": 2
}
