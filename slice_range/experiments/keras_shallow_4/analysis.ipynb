{
 "cells": [
  {
   "cell_type": "code",
   "execution_count": null,
   "metadata": {},
   "outputs": [],
   "source": [
    "K = 5\n",
    "EPOCHS = 100\n",
    "\n",
    "def load_average_history_by_lr(app, epochs=EPOCHS, k=K):\n",
    "    histories = {}\n",
    "    for lr_index, lr in enumerate(LEARNING_RATES):\n",
    "        histories[lr] = kh.load_average_history(\n",
    "            app.get_model(), lr_index, epochs, k=k)\n",
    "    return histories\n",
    "\n",
    "\n",
    "def visualize_single_metric_average_history_by_lr(app, metric='val_acc', epochs=EPOCHS, k=K):\n",
    "    h = load_average_history_by_lr(app=app, epochs=EPOCHS, k=5)\n",
    "    single_metric = {}\n",
    "    for lr, history in h.items():\n",
    "        single_metric[lr] = history[metric]\n",
    "    pd.DataFrame(single_metric).plot(\n",
    "        title='{}: {} by learning-rate'.format(app.name, metric),\n",
    "        figsize=(10, 5),\n",
    "    )\n",
    "\n",
    "    \n",
    "def get_all_test_results():\n",
    "    results = {}\n",
    "    for app in ku.apps.values():\n",
    "        try:\n",
    "            results[app.codename] = kh.load_test_result(app.get_model())\n",
    "        except Exception:\n",
    "            pass\n",
    "        finally:\n",
    "            app.free_model()\n",
    "    return pd.DataFrame(results)"
   ]
  },
  {
   "cell_type": "code",
   "execution_count": null,
   "metadata": {},
   "outputs": [],
   "source": [
    "get_all_test_results()"
   ]
  },
  {
   "cell_type": "code",
   "execution_count": null,
   "metadata": {},
   "outputs": [],
   "source": [
    "visualize_single_metric_average_history_by_lr(app=ku.apps['mobilenet'])"
   ]
  }
 ],
 "metadata": {
  "kernelspec": {
   "display_name": "Python 3",
   "language": "python",
   "name": "python3"
  },
  "language_info": {
   "codemirror_mode": {
    "name": "ipython",
    "version": 3
   },
   "file_extension": ".py",
   "mimetype": "text/x-python",
   "name": "python",
   "nbconvert_exporter": "python",
   "pygments_lexer": "ipython3",
   "version": "3.6.4"
  }
 },
 "nbformat": 4,
 "nbformat_minor": 2
}
