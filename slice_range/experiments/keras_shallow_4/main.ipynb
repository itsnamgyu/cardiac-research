{
 "cells": [
  {
   "cell_type": "code",
   "execution_count": 8,
   "metadata": {},
   "outputs": [],
   "source": [
    "import sys\n",
    "sys.path.append('../..')\n",
    "\n",
    "import os\n",
    "import json\n",
    "import math\n",
    "\n",
    "import keras\n",
    "from keras import optimizers\n",
    "from keras.models import Sequential\n",
    "from keras.layers import Dense, Flatten, Dropout\n",
    "from sklearn.preprocessing import LabelEncoder, OneHotEncoder\n",
    "import sklearn\n",
    "import numpy as np\n",
    "import pandas as pd\n",
    "from tqdm import tqdm\n",
    "\n",
    "import cr_interface as cri\n",
    "import keras_utils as ku\n",
    "import keras_bottle as kb\n",
    "import keras_history as kh\n",
    "import keras_weights as kw\n",
    "import lib"
   ]
  },
  {
   "cell_type": "code",
   "execution_count": 3,
   "metadata": {},
   "outputs": [],
   "source": [
    "def bottleneck_generator(bottlenecks, labels, n_aug, batch_size=32, shuffle=True):\n",
    "    images_per_epoch = int(len(bottlenecks) / n_aug)\n",
    "    batches_per_epoch = math.ceil(images_per_epoch / batch_size)\n",
    "\n",
    "    batches_by_aug = list()\n",
    "\n",
    "    for index in range(n_aug):\n",
    "        bo, la = bottlenecks[index::n_aug], labels[index::n_aug]\n",
    "        if shuffle:\n",
    "            bo, la = sklearn.utils.shuffle(bo, la)\n",
    "        batches = list()\n",
    "        batches_by_aug.append(batches)\n",
    "        for i in range(batches_per_epoch):\n",
    "            i0 = i * batch_size \n",
    "            i1 = i0 + batch_size\n",
    "            batches.append((bo[i0:i1], la[i0:i1]))\n",
    "    \n",
    "    index = 0\n",
    "    while True:\n",
    "        for i in range(batches_per_epoch):\n",
    "            yield batches_by_aug[index][i]\n",
    "        index = (index + 1) % n_aug"
   ]
  },
  {
   "cell_type": "code",
   "execution_count": 4,
   "metadata": {
    "scrolled": true
   },
   "outputs": [
    {
     "name": "stdout",
     "output_type": "stream",
     "text": [
      "--------------------Running [5-fold 5-lr grid search optimization] on mobilenet---------------------\n",
      "---------------------------------Number of images by split by label---------------------------------\n",
      "   total  in  oap  obs\n",
      "0     46  34    7    5\n",
      "1     53  40    5    8\n",
      "2     47  31    8    8\n",
      "3     60  41   12    7\n",
      "4     46  35    4    7\n",
      "---------------------------------------Generating bottlenecks---------------------------------------\n",
      "(1/3) generating unaugmented bottlenecks\n",
      "loading mobilenet model\n",
      "(2/3) generating inner train bottlenecks\n",
      "(3/3) generating outer train bottlenecks\n",
      "----------------------------------------Loading bottlenecks-----------------------------------------\n",
      "Loading split 1 of 5...\n",
      "Loading split 2 of 5...\n",
      "Loading split 3 of 5...\n",
      "Loading split 4 of 5...\n",
      "Loading split 5 of 5...\n"
     ]
    },
    {
     "name": "stderr",
     "output_type": "stream",
     "text": [
      "\r",
      "  0%|          | 0/25 [00:00<?, ?it/s]"
     ]
    },
    {
     "name": "stdout",
     "output_type": "stream",
     "text": [
      "--------------------------------5-fold, 5-learning-rate grid search---------------------------------\n"
     ]
    },
    {
     "name": "stderr",
     "output_type": "stream",
     "text": [
      "\n"
     ]
    },
    {
     "ename": "KeyboardInterrupt",
     "evalue": "",
     "output_type": "error",
     "traceback": [
      "\u001b[0;31m---------------------------------------------------------------------------\u001b[0m",
      "\u001b[0;31mKeyboardInterrupt\u001b[0m                         Traceback (most recent call last)",
      "\u001b[0;32m<ipython-input-4-ef324d867ed2>\u001b[0m in \u001b[0;36m<module>\u001b[0;34m()\u001b[0m\n\u001b[1;32m    103\u001b[0m \u001b[0;34m\u001b[0m\u001b[0m\n\u001b[1;32m    104\u001b[0m \u001b[0;34m\u001b[0m\u001b[0m\n\u001b[0;32m--> 105\u001b[0;31m \u001b[0mku\u001b[0m\u001b[0;34m.\u001b[0m\u001b[0mrun_for_all_apps\u001b[0m\u001b[0;34m(\u001b[0m\u001b[0moptimize\u001b[0m\u001b[0;34m,\u001b[0m \u001b[0mtitle\u001b[0m\u001b[0;34m=\u001b[0m\u001b[0;34m\"5-fold 5-lr grid search optimization\"\u001b[0m\u001b[0;34m)\u001b[0m\u001b[0;34m\u001b[0m\u001b[0m\n\u001b[0m\u001b[1;32m    106\u001b[0m \u001b[0mlib\u001b[0m\u001b[0;34m.\u001b[0m\u001b[0mnotify\u001b[0m\u001b[0;34m(\u001b[0m\u001b[0;34m)\u001b[0m\u001b[0;34m\u001b[0m\u001b[0m\n",
      "\u001b[0;32m~/.ho/cardiac-research/slice_range/keras_utils.py\u001b[0m in \u001b[0;36mrun_for_all_apps\u001b[0;34m(f, title, verbose)\u001b[0m\n\u001b[1;32m    120\u001b[0m             print('Running {}on {}'.format(\n\u001b[1;32m    121\u001b[0m                 title_part, app.name).center(100, '-'))\n\u001b[0;32m--> 122\u001b[0;31m         \u001b[0mresults\u001b[0m\u001b[0;34m.\u001b[0m\u001b[0mappend\u001b[0m\u001b[0;34m(\u001b[0m\u001b[0mf\u001b[0m\u001b[0;34m(\u001b[0m\u001b[0mapp\u001b[0m\u001b[0;34m)\u001b[0m\u001b[0;34m)\u001b[0m\u001b[0;34m\u001b[0m\u001b[0m\n\u001b[0m\u001b[1;32m    123\u001b[0m         \u001b[0mapp\u001b[0m\u001b[0;34m.\u001b[0m\u001b[0mfree_model\u001b[0m\u001b[0;34m(\u001b[0m\u001b[0;34m)\u001b[0m\u001b[0;34m\u001b[0m\u001b[0m\n\u001b[1;32m    124\u001b[0m     \u001b[0;32mreturn\u001b[0m \u001b[0mresults\u001b[0m\u001b[0;34m\u001b[0m\u001b[0m\n",
      "\u001b[0;32m<ipython-input-4-ef324d867ed2>\u001b[0m in \u001b[0;36moptimize\u001b[0;34m(app, test, verbose, batch_size)\u001b[0m\n\u001b[1;32m     50\u001b[0m                     \u001b[0mvalidation_steps\u001b[0m\u001b[0;34m=\u001b[0m\u001b[0;36m1\u001b[0m\u001b[0;34m,\u001b[0m\u001b[0;34m\u001b[0m\u001b[0m\n\u001b[1;32m     51\u001b[0m                     \u001b[0mepochs\u001b[0m\u001b[0;34m=\u001b[0m\u001b[0mepochs\u001b[0m\u001b[0;34m,\u001b[0m\u001b[0;34m\u001b[0m\u001b[0m\n\u001b[0;32m---> 52\u001b[0;31m                     verbose=0)\n\u001b[0m\u001b[1;32m     53\u001b[0m \u001b[0;34m\u001b[0m\u001b[0m\n\u001b[1;32m     54\u001b[0m                 \u001b[0mkh\u001b[0m\u001b[0;34m.\u001b[0m\u001b[0msave_history\u001b[0m\u001b[0;34m(\u001b[0m\u001b[0mres\u001b[0m\u001b[0;34m.\u001b[0m\u001b[0mhistory\u001b[0m\u001b[0;34m,\u001b[0m \u001b[0mapp\u001b[0m\u001b[0;34m.\u001b[0m\u001b[0mget_model\u001b[0m\u001b[0;34m(\u001b[0m\u001b[0;34m)\u001b[0m\u001b[0;34m,\u001b[0m \u001b[0mlr_index\u001b[0m\u001b[0;34m,\u001b[0m \u001b[0mepochs\u001b[0m\u001b[0;34m,\u001b[0m \u001b[0mi\u001b[0m\u001b[0;34m)\u001b[0m\u001b[0;34m\u001b[0m\u001b[0m\n",
      "\u001b[0;32m~/.ho/cardiac-research/slice_range/venv/lib/python3.6/site-packages/keras/legacy/interfaces.py\u001b[0m in \u001b[0;36mwrapper\u001b[0;34m(*args, **kwargs)\u001b[0m\n\u001b[1;32m     89\u001b[0m                 warnings.warn('Update your `' + object_name + '` call to the ' +\n\u001b[1;32m     90\u001b[0m                               'Keras 2 API: ' + signature, stacklevel=2)\n\u001b[0;32m---> 91\u001b[0;31m             \u001b[0;32mreturn\u001b[0m \u001b[0mfunc\u001b[0m\u001b[0;34m(\u001b[0m\u001b[0;34m*\u001b[0m\u001b[0margs\u001b[0m\u001b[0;34m,\u001b[0m \u001b[0;34m**\u001b[0m\u001b[0mkwargs\u001b[0m\u001b[0;34m)\u001b[0m\u001b[0;34m\u001b[0m\u001b[0m\n\u001b[0m\u001b[1;32m     92\u001b[0m         \u001b[0mwrapper\u001b[0m\u001b[0;34m.\u001b[0m\u001b[0m_original_function\u001b[0m \u001b[0;34m=\u001b[0m \u001b[0mfunc\u001b[0m\u001b[0;34m\u001b[0m\u001b[0m\n\u001b[1;32m     93\u001b[0m         \u001b[0;32mreturn\u001b[0m \u001b[0mwrapper\u001b[0m\u001b[0;34m\u001b[0m\u001b[0m\n",
      "\u001b[0;32m~/.ho/cardiac-research/slice_range/venv/lib/python3.6/site-packages/keras/engine/training.py\u001b[0m in \u001b[0;36mfit_generator\u001b[0;34m(self, generator, steps_per_epoch, epochs, verbose, callbacks, validation_data, validation_steps, class_weight, max_queue_size, workers, use_multiprocessing, shuffle, initial_epoch)\u001b[0m\n\u001b[1;32m   1416\u001b[0m             \u001b[0muse_multiprocessing\u001b[0m\u001b[0;34m=\u001b[0m\u001b[0muse_multiprocessing\u001b[0m\u001b[0;34m,\u001b[0m\u001b[0;34m\u001b[0m\u001b[0m\n\u001b[1;32m   1417\u001b[0m             \u001b[0mshuffle\u001b[0m\u001b[0;34m=\u001b[0m\u001b[0mshuffle\u001b[0m\u001b[0;34m,\u001b[0m\u001b[0;34m\u001b[0m\u001b[0m\n\u001b[0;32m-> 1418\u001b[0;31m             initial_epoch=initial_epoch)\n\u001b[0m\u001b[1;32m   1419\u001b[0m \u001b[0;34m\u001b[0m\u001b[0m\n\u001b[1;32m   1420\u001b[0m     \u001b[0;34m@\u001b[0m\u001b[0minterfaces\u001b[0m\u001b[0;34m.\u001b[0m\u001b[0mlegacy_generator_methods_support\u001b[0m\u001b[0;34m\u001b[0m\u001b[0m\n",
      "\u001b[0;32m~/.ho/cardiac-research/slice_range/venv/lib/python3.6/site-packages/keras/engine/training_generator.py\u001b[0m in \u001b[0;36mfit_generator\u001b[0;34m(model, generator, steps_per_epoch, epochs, verbose, callbacks, validation_data, validation_steps, class_weight, max_queue_size, workers, use_multiprocessing, shuffle, initial_epoch)\u001b[0m\n\u001b[1;32m    215\u001b[0m                 outs = model.train_on_batch(x, y,\n\u001b[1;32m    216\u001b[0m                                             \u001b[0msample_weight\u001b[0m\u001b[0;34m=\u001b[0m\u001b[0msample_weight\u001b[0m\u001b[0;34m,\u001b[0m\u001b[0;34m\u001b[0m\u001b[0m\n\u001b[0;32m--> 217\u001b[0;31m                                             class_weight=class_weight)\n\u001b[0m\u001b[1;32m    218\u001b[0m \u001b[0;34m\u001b[0m\u001b[0m\n\u001b[1;32m    219\u001b[0m                 \u001b[0mouts\u001b[0m \u001b[0;34m=\u001b[0m \u001b[0mto_list\u001b[0m\u001b[0;34m(\u001b[0m\u001b[0mouts\u001b[0m\u001b[0;34m)\u001b[0m\u001b[0;34m\u001b[0m\u001b[0m\n",
      "\u001b[0;32m~/.ho/cardiac-research/slice_range/venv/lib/python3.6/site-packages/keras/engine/training.py\u001b[0m in \u001b[0;36mtrain_on_batch\u001b[0;34m(self, x, y, sample_weight, class_weight)\u001b[0m\n\u001b[1;32m   1215\u001b[0m             \u001b[0mins\u001b[0m \u001b[0;34m=\u001b[0m \u001b[0mx\u001b[0m \u001b[0;34m+\u001b[0m \u001b[0my\u001b[0m \u001b[0;34m+\u001b[0m \u001b[0msample_weights\u001b[0m\u001b[0;34m\u001b[0m\u001b[0m\n\u001b[1;32m   1216\u001b[0m         \u001b[0mself\u001b[0m\u001b[0;34m.\u001b[0m\u001b[0m_make_train_function\u001b[0m\u001b[0;34m(\u001b[0m\u001b[0;34m)\u001b[0m\u001b[0;34m\u001b[0m\u001b[0m\n\u001b[0;32m-> 1217\u001b[0;31m         \u001b[0moutputs\u001b[0m \u001b[0;34m=\u001b[0m \u001b[0mself\u001b[0m\u001b[0;34m.\u001b[0m\u001b[0mtrain_function\u001b[0m\u001b[0;34m(\u001b[0m\u001b[0mins\u001b[0m\u001b[0;34m)\u001b[0m\u001b[0;34m\u001b[0m\u001b[0m\n\u001b[0m\u001b[1;32m   1218\u001b[0m         \u001b[0;32mreturn\u001b[0m \u001b[0munpack_singleton\u001b[0m\u001b[0;34m(\u001b[0m\u001b[0moutputs\u001b[0m\u001b[0;34m)\u001b[0m\u001b[0;34m\u001b[0m\u001b[0m\n\u001b[1;32m   1219\u001b[0m \u001b[0;34m\u001b[0m\u001b[0m\n",
      "\u001b[0;32m~/.ho/cardiac-research/slice_range/venv/lib/python3.6/site-packages/keras/backend/tensorflow_backend.py\u001b[0m in \u001b[0;36m__call__\u001b[0;34m(self, inputs)\u001b[0m\n\u001b[1;32m   2713\u001b[0m                 \u001b[0;32mreturn\u001b[0m \u001b[0mself\u001b[0m\u001b[0;34m.\u001b[0m\u001b[0m_legacy_call\u001b[0m\u001b[0;34m(\u001b[0m\u001b[0minputs\u001b[0m\u001b[0;34m)\u001b[0m\u001b[0;34m\u001b[0m\u001b[0m\n\u001b[1;32m   2714\u001b[0m \u001b[0;34m\u001b[0m\u001b[0m\n\u001b[0;32m-> 2715\u001b[0;31m             \u001b[0;32mreturn\u001b[0m \u001b[0mself\u001b[0m\u001b[0;34m.\u001b[0m\u001b[0m_call\u001b[0m\u001b[0;34m(\u001b[0m\u001b[0minputs\u001b[0m\u001b[0;34m)\u001b[0m\u001b[0;34m\u001b[0m\u001b[0m\n\u001b[0m\u001b[1;32m   2716\u001b[0m         \u001b[0;32melse\u001b[0m\u001b[0;34m:\u001b[0m\u001b[0;34m\u001b[0m\u001b[0m\n\u001b[1;32m   2717\u001b[0m             \u001b[0;32mif\u001b[0m \u001b[0mpy_any\u001b[0m\u001b[0;34m(\u001b[0m\u001b[0mis_tensor\u001b[0m\u001b[0;34m(\u001b[0m\u001b[0mx\u001b[0m\u001b[0;34m)\u001b[0m \u001b[0;32mfor\u001b[0m \u001b[0mx\u001b[0m \u001b[0;32min\u001b[0m \u001b[0minputs\u001b[0m\u001b[0;34m)\u001b[0m\u001b[0;34m:\u001b[0m\u001b[0;34m\u001b[0m\u001b[0m\n",
      "\u001b[0;32m~/.ho/cardiac-research/slice_range/venv/lib/python3.6/site-packages/keras/backend/tensorflow_backend.py\u001b[0m in \u001b[0;36m_call\u001b[0;34m(self, inputs)\u001b[0m\n\u001b[1;32m   2673\u001b[0m             \u001b[0mfetched\u001b[0m \u001b[0;34m=\u001b[0m \u001b[0mself\u001b[0m\u001b[0;34m.\u001b[0m\u001b[0m_callable_fn\u001b[0m\u001b[0;34m(\u001b[0m\u001b[0;34m*\u001b[0m\u001b[0marray_vals\u001b[0m\u001b[0;34m,\u001b[0m \u001b[0mrun_metadata\u001b[0m\u001b[0;34m=\u001b[0m\u001b[0mself\u001b[0m\u001b[0;34m.\u001b[0m\u001b[0mrun_metadata\u001b[0m\u001b[0;34m)\u001b[0m\u001b[0;34m\u001b[0m\u001b[0m\n\u001b[1;32m   2674\u001b[0m         \u001b[0;32melse\u001b[0m\u001b[0;34m:\u001b[0m\u001b[0;34m\u001b[0m\u001b[0m\n\u001b[0;32m-> 2675\u001b[0;31m             \u001b[0mfetched\u001b[0m \u001b[0;34m=\u001b[0m \u001b[0mself\u001b[0m\u001b[0;34m.\u001b[0m\u001b[0m_callable_fn\u001b[0m\u001b[0;34m(\u001b[0m\u001b[0;34m*\u001b[0m\u001b[0marray_vals\u001b[0m\u001b[0;34m)\u001b[0m\u001b[0;34m\u001b[0m\u001b[0m\n\u001b[0m\u001b[1;32m   2676\u001b[0m         \u001b[0;32mreturn\u001b[0m \u001b[0mfetched\u001b[0m\u001b[0;34m[\u001b[0m\u001b[0;34m:\u001b[0m\u001b[0mlen\u001b[0m\u001b[0;34m(\u001b[0m\u001b[0mself\u001b[0m\u001b[0;34m.\u001b[0m\u001b[0moutputs\u001b[0m\u001b[0;34m)\u001b[0m\u001b[0;34m]\u001b[0m\u001b[0;34m\u001b[0m\u001b[0m\n\u001b[1;32m   2677\u001b[0m \u001b[0;34m\u001b[0m\u001b[0m\n",
      "\u001b[0;32m~/.ho/cardiac-research/slice_range/venv/lib/python3.6/site-packages/tensorflow/python/client/session.py\u001b[0m in \u001b[0;36m__call__\u001b[0;34m(self, *args)\u001b[0m\n\u001b[1;32m   1449\u001b[0m         \u001b[0;32mif\u001b[0m \u001b[0mself\u001b[0m\u001b[0;34m.\u001b[0m\u001b[0m_session\u001b[0m\u001b[0;34m.\u001b[0m\u001b[0m_created_with_new_api\u001b[0m\u001b[0;34m:\u001b[0m\u001b[0;34m\u001b[0m\u001b[0m\n\u001b[1;32m   1450\u001b[0m           return tf_session.TF_SessionRunCallable(\n\u001b[0;32m-> 1451\u001b[0;31m               self._session._session, self._handle, args, status, None)\n\u001b[0m\u001b[1;32m   1452\u001b[0m         \u001b[0;32melse\u001b[0m\u001b[0;34m:\u001b[0m\u001b[0;34m\u001b[0m\u001b[0m\n\u001b[1;32m   1453\u001b[0m           return tf_session.TF_DeprecatedSessionRunCallable(\n",
      "\u001b[0;31mKeyboardInterrupt\u001b[0m: "
     ]
    }
   ],
   "source": [
    "TEST = True\n",
    "VERBOSE = 1\n",
    "LEARNING_RATES = [0.01, 0.001, 0.0001, 0.00001, 0.000001]\n",
    "\n",
    "def optimize(app, test=TEST, verbose=VERBOSE, batch_size=32):\n",
    "    train_collection = cri.CrCollection.load().filter_by(dataset_index=0).tri_label().labeled()\n",
    "    test_collection = cri.CrCollection.load().filter_by(dataset_index=1).tri_label().labeled()\n",
    "\n",
    "    if test:\n",
    "        epochs = 5\n",
    "        n_aug = 1\n",
    "        train_collection = train_collection.sample(frac=0.1)\n",
    "        train_index = 999\n",
    "        k = 5\n",
    "        learning_rates = LEARNING_RATES\n",
    "    else:\n",
    "        epochs = 100\n",
    "        n_aug = 5\n",
    "        train_index = 0\n",
    "        k = 5\n",
    "        learning_rates = LEARNING_RATES\n",
    "\n",
    "    k_train_sets, k_validation_sets, entire_set = kb.get_k_bottlenecks(\n",
    "        app, train_collection, n_aug=n_aug, k=k, include_entire_set=True)\n",
    "\n",
    "    min_loss_by_lr = []\n",
    "    min_loss_epoch_by_lr = []\n",
    "    average_histories = []\n",
    "\n",
    "    if verbose >= 1:\n",
    "        print('{}-fold, {}-learning-rate grid search'.format(\n",
    "            k, len(learning_rates)).center(100, '-'))\n",
    "    with tqdm(total=len(learning_rates) * k, disable=(verbose<1)) as bar:\n",
    "        for lr_index, lr in enumerate(learning_rates):\n",
    "            histories = []\n",
    "            for i in range(k):\n",
    "                train_bottles, train_labels = k_train_sets[i]\n",
    "                validation_bottles, validation_labels = k_validation_sets[i]\n",
    "\n",
    "                top_model = app.load_top_model(lr=lr)\n",
    "                total = len(train_bottles)\n",
    "                images_per_epoch = total / n_aug\n",
    "                batches_per_epoch = math.ceil(images_per_epoch / batch_size)\n",
    "\n",
    "                res = top_model.fit_generator(\n",
    "                    bottleneck_generator(train_bottles, train_labels, n_aug=n_aug, shuffle=True),\n",
    "                    validation_data=bottleneck_generator(validation_bottles, validation_labels,\n",
    "                                                         batch_size=len(validation_bottles), n_aug=1, shuffle=False),\n",
    "                    steps_per_epoch=batches_per_epoch,\n",
    "                    validation_steps=1,\n",
    "                    epochs=epochs,\n",
    "                    verbose=0)\n",
    "\n",
    "                kh.save_history(res.history, app.get_model(), lr_index, epochs, i)\n",
    "                histories.append(pd.DataFrame(res.history))\n",
    "                bar.update()\n",
    "\n",
    "            average_history = pd.concat(histories).groupby(level=0).mean()\n",
    "            average_histories.append(average_history)\n",
    "            min_loss_by_lr.append(average_history.val_loss.min())\n",
    "            min_loss_epoch_by_lr.append(average_history.val_loss.idxmin())\n",
    "\n",
    "    min_loss = pd.Series(min_loss_by_lr).min()\n",
    "    m_lr_index = pd.Series(min_loss_by_lr).idxmin()\n",
    "    m_acc = pd.Series(average_histories[m_lr_index].val_acc).min()\n",
    "    m_epochs = min_loss_epoch_by_lr[m_lr_index]\n",
    "    m_lr = learning_rates[m_lr_index]\n",
    "\n",
    "    if verbose >= 1:\n",
    "        print('[min_val_loss: {}] val_acc: {}, lr: {}, epochs: {}'.format(\n",
    "            min_loss, m_acc, m_lr, m_epochs))\n",
    "\n",
    "    if verbose >= 1:\n",
    "        print('Training and testing final model'.center(100, '-'))\n",
    "\n",
    "    train_bottles, train_labels = entire_set\n",
    "    test_bottles, test_labels = kb.load_bottlenecks(app, test_collection, aug=False)\n",
    "    test_labels = lib.onehot(test_labels)\n",
    "\n",
    "    top_model = app.load_top_model(lr=m_lr)\n",
    "    res = top_model.fit_generator(\n",
    "        bottleneck_generator(train_bottles, train_labels, n_aug=n_aug, batch_size=batch_size, shuffle=True),\n",
    "        steps_per_epoch=batches_per_epoch,\n",
    "        epochs=m_epochs,\n",
    "        verbose=0)\n",
    "    kw.save_weights(top_model, train_index=train_index)\n",
    "    kh.save_history(res.history, app.get_model(), m_lr_index, m_epochs, split_index=None)\n",
    "\n",
    "    loss, acc = top_model.evaluate(test_bottles, test_labels, verbose=0)\n",
    "    if verbose >= 1:\n",
    "        print('final accuracy: {}'.format(acc))\n",
    "    kh.save_test_result(app.get_model(), loss, acc, m_lr, m_epochs)\n",
    "\n",
    "    '''\n",
    "    if verbose >= 1:\n",
    "        print('Freeing bottlenecks'.center(100, '-'))\n",
    "    kb.reset_bottlenecks()\n",
    "    '''\n",
    "    \n",
    "    if verbose >= 1:\n",
    "        print()\n",
    "        print()\n",
    "\n",
    "\n",
    "ku.run_for_all_apps(optimize, title=\"5-fold 5-lr grid search optimization\")\n",
    "lib.notify()"
   ]
  },
  {
   "cell_type": "code",
   "execution_count": 20,
   "metadata": {
    "scrolled": true
   },
   "outputs": [],
   "source": [
    "app = ku.apps['mobilenet']\n",
    "K = 5\n",
    "EPOCHS = 5\n",
    "LEARNING_RATES = [0.01, 0.001, 0.0001, 0.00001, 0.000001]\n",
    "\n",
    "def load_average_history_by_lr(app, epochs=EPOCHS, k=K):\n",
    "    histories = {}\n",
    "    for lr_index, lr in enumerate(LEARNING_RATES):\n",
    "        histories[lr] = kh.load_average_history(\n",
    "            app.get_model(), lr_index, epochs, k=k)\n",
    "    return histories\n",
    "\n",
    "def plot_single_metric_average_history_by_lr(app, metric='val_acc', epochs=EPOCHS, k=K):\n",
    "    h = load_average_history_by_lr(app=app, epochs=EPOCHS, k=5)\n",
    "    single_metric = {}\n",
    "    for lr, history in h.items():\n",
    "        single_metric[lr] = history[metric]\n",
    "    return pd.DataFrame(single_metric).plot(\n",
    "        title='{}: {} by learning-rate'.format(app.name, metric),\n",
    "        figsize=(10, 5),\n",
    "    )\n",
    "\n",
    "    \n",
    "def generate_all_test_results():\n",
    "    results = {}\n",
    "    for app in ku.apps.values():\n",
    "        try:\n",
    "            results[app.codename] = kh.load_test_result(app.get_model())\n",
    "            plot_single_metric_average_history_by_lr(app, 'val_acc').get_figure().savefig(\n",
    "                '{}_val_acc_by_lr.png'.format(app.codename), dpi=160)\n",
    "            plot_single_metric_average_history_by_lr(app, 'val_loss').get_figure().savefig(\n",
    "                '{}_val_loss_by_lr.png'.format(app.codename), dpi=160)\n",
    "        except Exception:\n",
    "            pass\n",
    "    pd.DataFrame(results).to_csv('test_results.csv')"
   ]
  },
  {
   "cell_type": "code",
   "execution_count": 23,
   "metadata": {},
   "outputs": [
    {
     "data": {
      "text/plain": [
       "{'loss': '0.4387239707853404',\n",
       " 'accuracy': '0.8174904942965779',\n",
       " 'lr': '0.0001',\n",
       " 'epochs': '1'}"
      ]
     },
     "execution_count": 23,
     "metadata": {},
     "output_type": "execute_result"
    }
   ],
   "source": [
    "kh.load_test_result(app.get_model())"
   ]
  },
  {
   "cell_type": "code",
   "execution_count": 25,
   "metadata": {
    "scrolled": true
   },
   "outputs": [
    {
     "data": {
      "text/plain": [
       "<matplotlib.axes._subplots.AxesSubplot at 0x12ac25da0>"
      ]
     },
     "execution_count": 25,
     "metadata": {},
     "output_type": "execute_result"
    },
    {
     "data": {
      "image/png": "[encoded data removed]",
      "text/plain": [
       "<Figure size 720x360 with 1 Axes>"
      ]
     },
     "metadata": {},
     "output_type": "display_data"
    }
   ],
   "source": [
    "plot_single_metric_average_history_by_lr(app, metric='val_acc')"
   ]
  },
  {
   "cell_type": "code",
   "execution_count": 26,
   "metadata": {},
   "outputs": [],
   "source": [
    "#get_all_test_results()"
   ]
  }
 ],
 "metadata": {
  "kernelspec": {
   "display_name": "Python 3",
   "language": "python",
   "name": "python3"
  },
  "language_info": {
   "codemirror_mode": {
    "name": "ipython",
    "version": 3
   },
   "file_extension": ".py",
   "mimetype": "text/x-python",
   "name": "python",
   "nbconvert_exporter": "python",
   "pygments_lexer": "ipython3",
   "version": "3.6.4"
  }
 },
 "nbformat": 4,
 "nbformat_minor": 2
}
